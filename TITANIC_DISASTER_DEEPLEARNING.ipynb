{
 "cells": [
  {
   "cell_type": "code",
   "execution_count": 1,
   "metadata": {},
   "outputs": [],
   "source": [
    "import pandas as pd\n",
    "import matplotlib.pyplot as plt\n",
    "import seaborn as sns\n",
    "import numpy as np\n",
    "%matplotlib inline"
   ]
  },
  {
   "cell_type": "code",
   "execution_count": 2,
   "metadata": {},
   "outputs": [],
   "source": [
    "train = pd.read_csv(\"D:/uni/KAGGLE COMPETITIONS/titanic/train.csv\")\n",
    "test = pd.read_csv(\"D:/uni/KAGGLE COMPETITIONS/titanic/test.csv\")"
   ]
  },
  {
   "cell_type": "code",
   "execution_count": 3,
   "metadata": {},
   "outputs": [
    {
     "data": {
      "text/html": [
       "<div>\n",
       "<style scoped>\n",
       "    .dataframe tbody tr th:only-of-type {\n",
       "        vertical-align: middle;\n",
       "    }\n",
       "\n",
       "    .dataframe tbody tr th {\n",
       "        vertical-align: top;\n",
       "    }\n",
       "\n",
       "    .dataframe thead th {\n",
       "        text-align: right;\n",
       "    }\n",
       "</style>\n",
       "<table border=\"1\" class=\"dataframe\">\n",
       "  <thead>\n",
       "    <tr style=\"text-align: right;\">\n",
       "      <th></th>\n",
       "      <th>PassengerId</th>\n",
       "      <th>Survived</th>\n",
       "      <th>Pclass</th>\n",
       "      <th>Name</th>\n",
       "      <th>Sex</th>\n",
       "      <th>Age</th>\n",
       "      <th>SibSp</th>\n",
       "      <th>Parch</th>\n",
       "      <th>Ticket</th>\n",
       "      <th>Fare</th>\n",
       "      <th>Cabin</th>\n",
       "      <th>Embarked</th>\n",
       "    </tr>\n",
       "  </thead>\n",
       "  <tbody>\n",
       "    <tr>\n",
       "      <th>0</th>\n",
       "      <td>1</td>\n",
       "      <td>0</td>\n",
       "      <td>3</td>\n",
       "      <td>Braund, Mr. Owen Harris</td>\n",
       "      <td>male</td>\n",
       "      <td>22.0</td>\n",
       "      <td>1</td>\n",
       "      <td>0</td>\n",
       "      <td>A/5 21171</td>\n",
       "      <td>7.2500</td>\n",
       "      <td>NaN</td>\n",
       "      <td>S</td>\n",
       "    </tr>\n",
       "    <tr>\n",
       "      <th>1</th>\n",
       "      <td>2</td>\n",
       "      <td>1</td>\n",
       "      <td>1</td>\n",
       "      <td>Cumings, Mrs. John Bradley (Florence Briggs Th...</td>\n",
       "      <td>female</td>\n",
       "      <td>38.0</td>\n",
       "      <td>1</td>\n",
       "      <td>0</td>\n",
       "      <td>PC 17599</td>\n",
       "      <td>71.2833</td>\n",
       "      <td>C85</td>\n",
       "      <td>C</td>\n",
       "    </tr>\n",
       "    <tr>\n",
       "      <th>2</th>\n",
       "      <td>3</td>\n",
       "      <td>1</td>\n",
       "      <td>3</td>\n",
       "      <td>Heikkinen, Miss. Laina</td>\n",
       "      <td>female</td>\n",
       "      <td>26.0</td>\n",
       "      <td>0</td>\n",
       "      <td>0</td>\n",
       "      <td>STON/O2. 3101282</td>\n",
       "      <td>7.9250</td>\n",
       "      <td>NaN</td>\n",
       "      <td>S</td>\n",
       "    </tr>\n",
       "    <tr>\n",
       "      <th>3</th>\n",
       "      <td>4</td>\n",
       "      <td>1</td>\n",
       "      <td>1</td>\n",
       "      <td>Futrelle, Mrs. Jacques Heath (Lily May Peel)</td>\n",
       "      <td>female</td>\n",
       "      <td>35.0</td>\n",
       "      <td>1</td>\n",
       "      <td>0</td>\n",
       "      <td>113803</td>\n",
       "      <td>53.1000</td>\n",
       "      <td>C123</td>\n",
       "      <td>S</td>\n",
       "    </tr>\n",
       "    <tr>\n",
       "      <th>4</th>\n",
       "      <td>5</td>\n",
       "      <td>0</td>\n",
       "      <td>3</td>\n",
       "      <td>Allen, Mr. William Henry</td>\n",
       "      <td>male</td>\n",
       "      <td>35.0</td>\n",
       "      <td>0</td>\n",
       "      <td>0</td>\n",
       "      <td>373450</td>\n",
       "      <td>8.0500</td>\n",
       "      <td>NaN</td>\n",
       "      <td>S</td>\n",
       "    </tr>\n",
       "  </tbody>\n",
       "</table>\n",
       "</div>"
      ],
      "text/plain": [
       "   PassengerId  Survived  Pclass  \\\n",
       "0            1         0       3   \n",
       "1            2         1       1   \n",
       "2            3         1       3   \n",
       "3            4         1       1   \n",
       "4            5         0       3   \n",
       "\n",
       "                                                Name     Sex   Age  SibSp  \\\n",
       "0                            Braund, Mr. Owen Harris    male  22.0      1   \n",
       "1  Cumings, Mrs. John Bradley (Florence Briggs Th...  female  38.0      1   \n",
       "2                             Heikkinen, Miss. Laina  female  26.0      0   \n",
       "3       Futrelle, Mrs. Jacques Heath (Lily May Peel)  female  35.0      1   \n",
       "4                           Allen, Mr. William Henry    male  35.0      0   \n",
       "\n",
       "   Parch            Ticket     Fare Cabin Embarked  \n",
       "0      0         A/5 21171   7.2500   NaN        S  \n",
       "1      0          PC 17599  71.2833   C85        C  \n",
       "2      0  STON/O2. 3101282   7.9250   NaN        S  \n",
       "3      0            113803  53.1000  C123        S  \n",
       "4      0            373450   8.0500   NaN        S  "
      ]
     },
     "execution_count": 3,
     "metadata": {},
     "output_type": "execute_result"
    }
   ],
   "source": [
    "train.head()"
   ]
  },
  {
   "cell_type": "code",
   "execution_count": 4,
   "metadata": {},
   "outputs": [
    {
     "data": {
      "text/html": [
       "<div>\n",
       "<style scoped>\n",
       "    .dataframe tbody tr th:only-of-type {\n",
       "        vertical-align: middle;\n",
       "    }\n",
       "\n",
       "    .dataframe tbody tr th {\n",
       "        vertical-align: top;\n",
       "    }\n",
       "\n",
       "    .dataframe thead th {\n",
       "        text-align: right;\n",
       "    }\n",
       "</style>\n",
       "<table border=\"1\" class=\"dataframe\">\n",
       "  <thead>\n",
       "    <tr style=\"text-align: right;\">\n",
       "      <th></th>\n",
       "      <th>PassengerId</th>\n",
       "      <th>Pclass</th>\n",
       "      <th>Name</th>\n",
       "      <th>Sex</th>\n",
       "      <th>Age</th>\n",
       "      <th>SibSp</th>\n",
       "      <th>Parch</th>\n",
       "      <th>Ticket</th>\n",
       "      <th>Fare</th>\n",
       "      <th>Cabin</th>\n",
       "      <th>Embarked</th>\n",
       "    </tr>\n",
       "  </thead>\n",
       "  <tbody>\n",
       "    <tr>\n",
       "      <th>0</th>\n",
       "      <td>892</td>\n",
       "      <td>3</td>\n",
       "      <td>Kelly, Mr. James</td>\n",
       "      <td>male</td>\n",
       "      <td>34.5</td>\n",
       "      <td>0</td>\n",
       "      <td>0</td>\n",
       "      <td>330911</td>\n",
       "      <td>7.8292</td>\n",
       "      <td>NaN</td>\n",
       "      <td>Q</td>\n",
       "    </tr>\n",
       "    <tr>\n",
       "      <th>1</th>\n",
       "      <td>893</td>\n",
       "      <td>3</td>\n",
       "      <td>Wilkes, Mrs. James (Ellen Needs)</td>\n",
       "      <td>female</td>\n",
       "      <td>47.0</td>\n",
       "      <td>1</td>\n",
       "      <td>0</td>\n",
       "      <td>363272</td>\n",
       "      <td>7.0000</td>\n",
       "      <td>NaN</td>\n",
       "      <td>S</td>\n",
       "    </tr>\n",
       "    <tr>\n",
       "      <th>2</th>\n",
       "      <td>894</td>\n",
       "      <td>2</td>\n",
       "      <td>Myles, Mr. Thomas Francis</td>\n",
       "      <td>male</td>\n",
       "      <td>62.0</td>\n",
       "      <td>0</td>\n",
       "      <td>0</td>\n",
       "      <td>240276</td>\n",
       "      <td>9.6875</td>\n",
       "      <td>NaN</td>\n",
       "      <td>Q</td>\n",
       "    </tr>\n",
       "    <tr>\n",
       "      <th>3</th>\n",
       "      <td>895</td>\n",
       "      <td>3</td>\n",
       "      <td>Wirz, Mr. Albert</td>\n",
       "      <td>male</td>\n",
       "      <td>27.0</td>\n",
       "      <td>0</td>\n",
       "      <td>0</td>\n",
       "      <td>315154</td>\n",
       "      <td>8.6625</td>\n",
       "      <td>NaN</td>\n",
       "      <td>S</td>\n",
       "    </tr>\n",
       "    <tr>\n",
       "      <th>4</th>\n",
       "      <td>896</td>\n",
       "      <td>3</td>\n",
       "      <td>Hirvonen, Mrs. Alexander (Helga E Lindqvist)</td>\n",
       "      <td>female</td>\n",
       "      <td>22.0</td>\n",
       "      <td>1</td>\n",
       "      <td>1</td>\n",
       "      <td>3101298</td>\n",
       "      <td>12.2875</td>\n",
       "      <td>NaN</td>\n",
       "      <td>S</td>\n",
       "    </tr>\n",
       "  </tbody>\n",
       "</table>\n",
       "</div>"
      ],
      "text/plain": [
       "   PassengerId  Pclass                                          Name     Sex  \\\n",
       "0          892       3                              Kelly, Mr. James    male   \n",
       "1          893       3              Wilkes, Mrs. James (Ellen Needs)  female   \n",
       "2          894       2                     Myles, Mr. Thomas Francis    male   \n",
       "3          895       3                              Wirz, Mr. Albert    male   \n",
       "4          896       3  Hirvonen, Mrs. Alexander (Helga E Lindqvist)  female   \n",
       "\n",
       "    Age  SibSp  Parch   Ticket     Fare Cabin Embarked  \n",
       "0  34.5      0      0   330911   7.8292   NaN        Q  \n",
       "1  47.0      1      0   363272   7.0000   NaN        S  \n",
       "2  62.0      0      0   240276   9.6875   NaN        Q  \n",
       "3  27.0      0      0   315154   8.6625   NaN        S  \n",
       "4  22.0      1      1  3101298  12.2875   NaN        S  "
      ]
     },
     "execution_count": 4,
     "metadata": {},
     "output_type": "execute_result"
    }
   ],
   "source": [
    "test.head()"
   ]
  },
  {
   "cell_type": "code",
   "execution_count": 5,
   "metadata": {},
   "outputs": [],
   "source": [
    "train.drop([\"PassengerId\", \"Name\", \"Ticket\"], axis = 1, inplace = True)\n",
    "columns = train.columns    #risetto le colonne, ora che ne sono state droppate 3"
   ]
  },
  {
   "cell_type": "code",
   "execution_count": 6,
   "metadata": {},
   "outputs": [
    {
     "name": "stdout",
     "output_type": "stream",
     "text": [
      "La variabile Survived ha 0 missing value\n",
      "La variabile Pclass ha 0 missing value\n",
      "La variabile Sex ha 0 missing value\n",
      "La variabile Age ha 177 missing value\n",
      "La variabile SibSp ha 0 missing value\n",
      "La variabile Parch ha 0 missing value\n",
      "La variabile Fare ha 0 missing value\n",
      "La variabile Cabin ha 687 missing value\n",
      "La variabile Embarked ha 2 missing value\n"
     ]
    }
   ],
   "source": [
    "for i in columns:\n",
    "    print(\"La variabile %s ha %d missing value\" % (i, train[i].isnull().values.sum()))"
   ]
  },
  {
   "cell_type": "code",
   "execution_count": 7,
   "metadata": {},
   "outputs": [],
   "source": [
    "train.drop([\"Cabin\"], axis = 1, inplace = True)\n",
    "columns = train.columns"
   ]
  },
  {
   "cell_type": "code",
   "execution_count": 8,
   "metadata": {},
   "outputs": [],
   "source": [
    "train['Embarked'] = train['Embarked'].fillna(train['Embarked'].mode()[0])"
   ]
  },
  {
   "cell_type": "code",
   "execution_count": 9,
   "metadata": {},
   "outputs": [],
   "source": [
    "train['Age'] = train['Age'].fillna(train['Age'].median())"
   ]
  },
  {
   "cell_type": "code",
   "execution_count": 10,
   "metadata": {},
   "outputs": [
    {
     "name": "stdout",
     "output_type": "stream",
     "text": [
      "La variabile Survived ha 0 missing value\n",
      "La variabile Pclass ha 0 missing value\n",
      "La variabile Sex ha 0 missing value\n",
      "La variabile Age ha 0 missing value\n",
      "La variabile SibSp ha 0 missing value\n",
      "La variabile Parch ha 0 missing value\n",
      "La variabile Fare ha 0 missing value\n",
      "La variabile Embarked ha 0 missing value\n"
     ]
    }
   ],
   "source": [
    "for i in columns:\n",
    "    print(\"La variabile %s ha %d missing value\" % (i, train[i].isnull().values.sum()))"
   ]
  },
  {
   "cell_type": "code",
   "execution_count": 11,
   "metadata": {},
   "outputs": [
    {
     "data": {
      "text/plain": [
       "count     891\n",
       "unique      3\n",
       "top         3\n",
       "freq      491\n",
       "Name: Pclass, dtype: object"
      ]
     },
     "execution_count": 11,
     "metadata": {},
     "output_type": "execute_result"
    }
   ],
   "source": [
    "train['Pclass'] = train['Pclass'].apply(str)\n",
    "train[\"Pclass\"].describe()"
   ]
  },
  {
   "cell_type": "code",
   "execution_count": 12,
   "metadata": {},
   "outputs": [],
   "source": [
    "from sklearn.preprocessing import LabelEncoder"
   ]
  },
  {
   "cell_type": "code",
   "execution_count": 13,
   "metadata": {},
   "outputs": [],
   "source": [
    "cols = (\"Pclass\", \"Embarked\")\n",
    "for i in cols:\n",
    "    le = LabelEncoder()\n",
    "    le.fit(list(train[i].values))\n",
    "    train[i] = le.transform(list(train[i].values))"
   ]
  },
  {
   "cell_type": "code",
   "execution_count": 14,
   "metadata": {},
   "outputs": [],
   "source": [
    "train = pd.get_dummies(train)"
   ]
  },
  {
   "cell_type": "code",
   "execution_count": 15,
   "metadata": {},
   "outputs": [
    {
     "data": {
      "text/html": [
       "<div>\n",
       "<style scoped>\n",
       "    .dataframe tbody tr th:only-of-type {\n",
       "        vertical-align: middle;\n",
       "    }\n",
       "\n",
       "    .dataframe tbody tr th {\n",
       "        vertical-align: top;\n",
       "    }\n",
       "\n",
       "    .dataframe thead th {\n",
       "        text-align: right;\n",
       "    }\n",
       "</style>\n",
       "<table border=\"1\" class=\"dataframe\">\n",
       "  <thead>\n",
       "    <tr style=\"text-align: right;\">\n",
       "      <th></th>\n",
       "      <th>Survived</th>\n",
       "      <th>Pclass</th>\n",
       "      <th>Age</th>\n",
       "      <th>SibSp</th>\n",
       "      <th>Parch</th>\n",
       "      <th>Fare</th>\n",
       "      <th>Embarked</th>\n",
       "      <th>Sex_female</th>\n",
       "      <th>Sex_male</th>\n",
       "    </tr>\n",
       "  </thead>\n",
       "  <tbody>\n",
       "    <tr>\n",
       "      <th>0</th>\n",
       "      <td>0</td>\n",
       "      <td>2</td>\n",
       "      <td>22.0</td>\n",
       "      <td>1</td>\n",
       "      <td>0</td>\n",
       "      <td>7.2500</td>\n",
       "      <td>2</td>\n",
       "      <td>0</td>\n",
       "      <td>1</td>\n",
       "    </tr>\n",
       "    <tr>\n",
       "      <th>1</th>\n",
       "      <td>1</td>\n",
       "      <td>0</td>\n",
       "      <td>38.0</td>\n",
       "      <td>1</td>\n",
       "      <td>0</td>\n",
       "      <td>71.2833</td>\n",
       "      <td>0</td>\n",
       "      <td>1</td>\n",
       "      <td>0</td>\n",
       "    </tr>\n",
       "    <tr>\n",
       "      <th>2</th>\n",
       "      <td>1</td>\n",
       "      <td>2</td>\n",
       "      <td>26.0</td>\n",
       "      <td>0</td>\n",
       "      <td>0</td>\n",
       "      <td>7.9250</td>\n",
       "      <td>2</td>\n",
       "      <td>1</td>\n",
       "      <td>0</td>\n",
       "    </tr>\n",
       "    <tr>\n",
       "      <th>3</th>\n",
       "      <td>1</td>\n",
       "      <td>0</td>\n",
       "      <td>35.0</td>\n",
       "      <td>1</td>\n",
       "      <td>0</td>\n",
       "      <td>53.1000</td>\n",
       "      <td>2</td>\n",
       "      <td>1</td>\n",
       "      <td>0</td>\n",
       "    </tr>\n",
       "    <tr>\n",
       "      <th>4</th>\n",
       "      <td>0</td>\n",
       "      <td>2</td>\n",
       "      <td>35.0</td>\n",
       "      <td>0</td>\n",
       "      <td>0</td>\n",
       "      <td>8.0500</td>\n",
       "      <td>2</td>\n",
       "      <td>0</td>\n",
       "      <td>1</td>\n",
       "    </tr>\n",
       "  </tbody>\n",
       "</table>\n",
       "</div>"
      ],
      "text/plain": [
       "   Survived  Pclass   Age  SibSp  Parch     Fare  Embarked  Sex_female  \\\n",
       "0         0       2  22.0      1      0   7.2500         2           0   \n",
       "1         1       0  38.0      1      0  71.2833         0           1   \n",
       "2         1       2  26.0      0      0   7.9250         2           1   \n",
       "3         1       0  35.0      1      0  53.1000         2           1   \n",
       "4         0       2  35.0      0      0   8.0500         2           0   \n",
       "\n",
       "   Sex_male  \n",
       "0         1  \n",
       "1         0  \n",
       "2         0  \n",
       "3         0  \n",
       "4         1  "
      ]
     },
     "execution_count": 15,
     "metadata": {},
     "output_type": "execute_result"
    }
   ],
   "source": [
    "train.head()"
   ]
  },
  {
   "cell_type": "code",
   "execution_count": 16,
   "metadata": {},
   "outputs": [],
   "source": [
    "train.drop(train.columns[-1], axis = 1, inplace = True)"
   ]
  },
  {
   "cell_type": "code",
   "execution_count": 17,
   "metadata": {},
   "outputs": [],
   "source": [
    "test_Id = test[\"PassengerId\"]\n",
    "test.drop([\"PassengerId\", \"Name\", \"Ticket\", \"Cabin\"], axis = 1, inplace = True) #Rimuovo l'id pure dal test e lo salvo in una lista, in modo poi da riattaccarlo per la submission\n",
    "columns_test = test.columns    #risetto le colonne, ora che ne sono state droppate 3"
   ]
  },
  {
   "cell_type": "code",
   "execution_count": 18,
   "metadata": {},
   "outputs": [
    {
     "name": "stdout",
     "output_type": "stream",
     "text": [
      "TEST:\n",
      "\n",
      "La variabile Pclass ha 0 missing value\n",
      "La variabile Sex ha 0 missing value\n",
      "La variabile Age ha 0 missing value\n",
      "La variabile SibSp ha 0 missing value\n",
      "La variabile Parch ha 0 missing value\n",
      "La variabile Fare ha 0 missing value\n",
      "La variabile Embarked ha 0 missing value\n"
     ]
    }
   ],
   "source": [
    "test['Age'] = test['Age'].fillna(test['Age'].median())\n",
    "test['Fare'] = test['Fare'].fillna(test['Fare'].median())\n",
    "print(\"TEST:\\n\")\n",
    "for i in columns_test:\n",
    "    print(\"La variabile %s ha %d missing value\" % (i, test[i].isnull().values.sum()))"
   ]
  },
  {
   "cell_type": "code",
   "execution_count": 19,
   "metadata": {},
   "outputs": [
    {
     "data": {
      "text/plain": [
       "count     418\n",
       "unique      3\n",
       "top         3\n",
       "freq      218\n",
       "Name: Pclass, dtype: object"
      ]
     },
     "execution_count": 19,
     "metadata": {},
     "output_type": "execute_result"
    }
   ],
   "source": [
    "test['Pclass'] = test['Pclass'].apply(str)\n",
    "test[\"Pclass\"].describe()"
   ]
  },
  {
   "cell_type": "code",
   "execution_count": 20,
   "metadata": {},
   "outputs": [],
   "source": [
    "cols = (\"Pclass\", \"Embarked\")\n",
    "for i in cols:\n",
    "    le = LabelEncoder()\n",
    "    le.fit(list(test[i].values))\n",
    "    test[i] = le.transform(list(test[i].values))"
   ]
  },
  {
   "cell_type": "code",
   "execution_count": 21,
   "metadata": {},
   "outputs": [],
   "source": [
    "test = pd.get_dummies(test)"
   ]
  },
  {
   "cell_type": "code",
   "execution_count": 22,
   "metadata": {},
   "outputs": [],
   "source": [
    "test.drop(test.columns[-1], axis = 1, inplace = True)"
   ]
  },
  {
   "cell_type": "code",
   "execution_count": 23,
   "metadata": {},
   "outputs": [
    {
     "data": {
      "text/html": [
       "<div>\n",
       "<style scoped>\n",
       "    .dataframe tbody tr th:only-of-type {\n",
       "        vertical-align: middle;\n",
       "    }\n",
       "\n",
       "    .dataframe tbody tr th {\n",
       "        vertical-align: top;\n",
       "    }\n",
       "\n",
       "    .dataframe thead th {\n",
       "        text-align: right;\n",
       "    }\n",
       "</style>\n",
       "<table border=\"1\" class=\"dataframe\">\n",
       "  <thead>\n",
       "    <tr style=\"text-align: right;\">\n",
       "      <th></th>\n",
       "      <th>Pclass</th>\n",
       "      <th>Age</th>\n",
       "      <th>SibSp</th>\n",
       "      <th>Parch</th>\n",
       "      <th>Fare</th>\n",
       "      <th>Embarked</th>\n",
       "      <th>Sex_female</th>\n",
       "    </tr>\n",
       "  </thead>\n",
       "  <tbody>\n",
       "    <tr>\n",
       "      <th>0</th>\n",
       "      <td>2</td>\n",
       "      <td>34.5</td>\n",
       "      <td>0</td>\n",
       "      <td>0</td>\n",
       "      <td>7.8292</td>\n",
       "      <td>1</td>\n",
       "      <td>0</td>\n",
       "    </tr>\n",
       "    <tr>\n",
       "      <th>1</th>\n",
       "      <td>2</td>\n",
       "      <td>47.0</td>\n",
       "      <td>1</td>\n",
       "      <td>0</td>\n",
       "      <td>7.0000</td>\n",
       "      <td>2</td>\n",
       "      <td>1</td>\n",
       "    </tr>\n",
       "    <tr>\n",
       "      <th>2</th>\n",
       "      <td>1</td>\n",
       "      <td>62.0</td>\n",
       "      <td>0</td>\n",
       "      <td>0</td>\n",
       "      <td>9.6875</td>\n",
       "      <td>1</td>\n",
       "      <td>0</td>\n",
       "    </tr>\n",
       "    <tr>\n",
       "      <th>3</th>\n",
       "      <td>2</td>\n",
       "      <td>27.0</td>\n",
       "      <td>0</td>\n",
       "      <td>0</td>\n",
       "      <td>8.6625</td>\n",
       "      <td>2</td>\n",
       "      <td>0</td>\n",
       "    </tr>\n",
       "    <tr>\n",
       "      <th>4</th>\n",
       "      <td>2</td>\n",
       "      <td>22.0</td>\n",
       "      <td>1</td>\n",
       "      <td>1</td>\n",
       "      <td>12.2875</td>\n",
       "      <td>2</td>\n",
       "      <td>1</td>\n",
       "    </tr>\n",
       "  </tbody>\n",
       "</table>\n",
       "</div>"
      ],
      "text/plain": [
       "   Pclass   Age  SibSp  Parch     Fare  Embarked  Sex_female\n",
       "0       2  34.5      0      0   7.8292         1           0\n",
       "1       2  47.0      1      0   7.0000         2           1\n",
       "2       1  62.0      0      0   9.6875         1           0\n",
       "3       2  27.0      0      0   8.6625         2           0\n",
       "4       2  22.0      1      1  12.2875         2           1"
      ]
     },
     "execution_count": 23,
     "metadata": {},
     "output_type": "execute_result"
    }
   ],
   "source": [
    "test.head()"
   ]
  },
  {
   "cell_type": "code",
   "execution_count": 24,
   "metadata": {},
   "outputs": [
    {
     "name": "stderr",
     "output_type": "stream",
     "text": [
      "D:\\Programmi\\Anaconda3\\lib\\site-packages\\h5py\\__init__.py:36: FutureWarning: Conversion of the second argument of issubdtype from `float` to `np.floating` is deprecated. In future, it will be treated as `np.float64 == np.dtype(float).type`.\n",
      "  from ._conv import register_converters as _register_converters\n",
      "Using TensorFlow backend.\n"
     ]
    }
   ],
   "source": [
    "from keras.utils import np_utils\n",
    "import keras\n",
    "from keras.models import Sequential\n",
    "from keras import layers\n",
    "from keras.optimizers import SGD\n",
    "\n",
    "from sklearn.model_selection import train_test_split\n",
    "from sklearn import preprocessing\n",
    "from sklearn.preprocessing import LabelEncoder, OneHotEncoder\n",
    "from sklearn import metrics\n",
    "from sklearn.metrics import roc_curve, auc\n",
    "from sklearn.metrics import confusion_matrix"
   ]
  },
  {
   "cell_type": "code",
   "execution_count": 25,
   "metadata": {},
   "outputs": [],
   "source": [
    "target_train = train.Survived.values\n",
    "target_train_nodup = target_train          #lo duplico in modo che più avanti questo non lo trasformerò in un array a due dimensioni, e potrò usarlo per la ROC curve\n",
    "train.drop([\"Survived\"], axis = 1, inplace = True)"
   ]
  },
  {
   "cell_type": "code",
   "execution_count": 26,
   "metadata": {},
   "outputs": [],
   "source": [
    "X = train\n",
    "y = target_train"
   ]
  },
  {
   "cell_type": "markdown",
   "metadata": {},
   "source": [
    "NORMALIZZO TEST E TRAIN"
   ]
  },
  {
   "cell_type": "code",
   "execution_count": 27,
   "metadata": {},
   "outputs": [],
   "source": [
    "df_scaler = preprocessing.MinMaxScaler(feature_range = (0,1))\n",
    "X_norm = df_scaler.fit_transform(X)"
   ]
  },
  {
   "cell_type": "code",
   "execution_count": 28,
   "metadata": {},
   "outputs": [],
   "source": [
    "test_norm = df_scaler.fit_transform(test)"
   ]
  },
  {
   "cell_type": "code",
   "execution_count": 29,
   "metadata": {},
   "outputs": [
    {
     "data": {
      "text/plain": [
       "(891, 7)"
      ]
     },
     "execution_count": 29,
     "metadata": {},
     "output_type": "execute_result"
    }
   ],
   "source": [
    "X_norm.shape"
   ]
  },
  {
   "cell_type": "code",
   "execution_count": 30,
   "metadata": {},
   "outputs": [
    {
     "data": {
      "text/plain": [
       "(891,)"
      ]
     },
     "execution_count": 30,
     "metadata": {},
     "output_type": "execute_result"
    }
   ],
   "source": [
    "target_train.shape"
   ]
  },
  {
   "cell_type": "code",
   "execution_count": 31,
   "metadata": {},
   "outputs": [
    {
     "data": {
      "text/plain": [
       "(418, 7)"
      ]
     },
     "execution_count": 31,
     "metadata": {},
     "output_type": "execute_result"
    }
   ],
   "source": [
    "test_norm.shape"
   ]
  },
  {
   "cell_type": "code",
   "execution_count": 32,
   "metadata": {},
   "outputs": [],
   "source": [
    "target_train = np_utils.to_categorical(target_train, 2) #GLI FACCIO CAPIRE CHE IL TARGET è BINARIO E LO METTO SOTTO FORMA DI ARRAY"
   ]
  },
  {
   "cell_type": "code",
   "execution_count": 328,
   "metadata": {},
   "outputs": [],
   "source": [
    "# creo modello\n",
    "\n",
    "model = Sequential()\n",
    "model.add(layers.Dense(100, input_dim=7, activation='relu'))\n",
    "model.add(layers.Dense(80,  activation='relu'))\n",
    "model.add(layers.Dense(60, activation='relu'))\n",
    "model.add(layers.Dense(50, activation='relu'))\n",
    "model.add(layers.Dense(40, activation='relu'))\n",
    "model.add(layers.Dense(30, activation='relu'))\n",
    "model.add(layers.Dense(25, activation='relu'))\n",
    "model.add(layers.Dense(15, activation='relu'))\n",
    "model.add(layers.Dense(8, activation='relu'))##\n",
    "model.add(layers.Dense(2, activation='sigmoid'))"
   ]
  },
  {
   "cell_type": "code",
   "execution_count": 329,
   "metadata": {},
   "outputs": [
    {
     "name": "stdout",
     "output_type": "stream",
     "text": [
      "_________________________________________________________________\n",
      "Layer (type)                 Output Shape              Param #   \n",
      "=================================================================\n",
      "dense_180 (Dense)            (None, 100)               800       \n",
      "_________________________________________________________________\n",
      "dense_181 (Dense)            (None, 80)                8080      \n",
      "_________________________________________________________________\n",
      "dense_182 (Dense)            (None, 60)                4860      \n",
      "_________________________________________________________________\n",
      "dense_183 (Dense)            (None, 50)                3050      \n",
      "_________________________________________________________________\n",
      "dense_184 (Dense)            (None, 40)                2040      \n",
      "_________________________________________________________________\n",
      "dense_185 (Dense)            (None, 30)                1230      \n",
      "_________________________________________________________________\n",
      "dense_186 (Dense)            (None, 25)                775       \n",
      "_________________________________________________________________\n",
      "dense_187 (Dense)            (None, 15)                390       \n",
      "_________________________________________________________________\n",
      "dense_188 (Dense)            (None, 8)                 128       \n",
      "_________________________________________________________________\n",
      "dense_189 (Dense)            (None, 2)                 18        \n",
      "=================================================================\n",
      "Total params: 21,371\n",
      "Trainable params: 21,371\n",
      "Non-trainable params: 0\n",
      "_________________________________________________________________\n"
     ]
    }
   ],
   "source": [
    "model.summary()"
   ]
  },
  {
   "cell_type": "code",
   "execution_count": 332,
   "metadata": {
    "scrolled": true
   },
   "outputs": [
    {
     "name": "stdout",
     "output_type": "stream",
     "text": [
      "Train on 623 samples, validate on 268 samples\n",
      "Epoch 1/300\n",
      "623/623 [==============================] - 1s 2ms/step - loss: 0.3491 - acc: 0.8515 - val_loss: 0.5504 - val_acc: 0.8228\n",
      "Epoch 2/300\n",
      "623/623 [==============================] - 0s 94us/step - loss: 0.3270 - acc: 0.8636 - val_loss: 0.5748 - val_acc: 0.8172\n",
      "Epoch 3/300\n",
      "623/623 [==============================] - 0s 96us/step - loss: 0.3301 - acc: 0.8644 - val_loss: 0.6127 - val_acc: 0.8246\n",
      "Epoch 4/300\n",
      "623/623 [==============================] - 0s 93us/step - loss: 0.3290 - acc: 0.8636 - val_loss: 0.5957 - val_acc: 0.8209\n",
      "Epoch 5/300\n",
      "623/623 [==============================] - 0s 93us/step - loss: 0.3353 - acc: 0.8604 - val_loss: 0.5941 - val_acc: 0.8116\n",
      "Epoch 6/300\n",
      "623/623 [==============================] - 0s 98us/step - loss: 0.3256 - acc: 0.8596 - val_loss: 0.6088 - val_acc: 0.8153\n",
      "Epoch 7/300\n",
      "623/623 [==============================] - 0s 90us/step - loss: 0.3278 - acc: 0.8620 - val_loss: 0.6195 - val_acc: 0.7985\n",
      "Epoch 8/300\n",
      "623/623 [==============================] - 0s 125us/step - loss: 0.3285 - acc: 0.8587 - val_loss: 0.6749 - val_acc: 0.8209\n",
      "Epoch 9/300\n",
      "623/623 [==============================] - 0s 115us/step - loss: 0.3336 - acc: 0.8676 - val_loss: 0.5969 - val_acc: 0.8246\n",
      "Epoch 10/300\n",
      "623/623 [==============================] - 0s 114us/step - loss: 0.3313 - acc: 0.8587 - val_loss: 0.5811 - val_acc: 0.8209\n",
      "Epoch 11/300\n",
      "623/623 [==============================] - 0s 91us/step - loss: 0.3203 - acc: 0.8660 - val_loss: 0.6576 - val_acc: 0.8097\n",
      "Epoch 12/300\n",
      "623/623 [==============================] - 0s 86us/step - loss: 0.3336 - acc: 0.8579 - val_loss: 0.6318 - val_acc: 0.8134\n",
      "Epoch 13/300\n",
      "623/623 [==============================] - 0s 94us/step - loss: 0.3438 - acc: 0.8547 - val_loss: 0.5899 - val_acc: 0.8209\n",
      "Epoch 14/300\n",
      "623/623 [==============================] - 0s 86us/step - loss: 0.3246 - acc: 0.8708 - val_loss: 0.5926 - val_acc: 0.8116\n",
      "Epoch 15/300\n",
      "623/623 [==============================] - 0s 88us/step - loss: 0.3244 - acc: 0.8579 - val_loss: 0.5795 - val_acc: 0.8134\n",
      "Epoch 16/300\n",
      "623/623 [==============================] - 0s 88us/step - loss: 0.3301 - acc: 0.8571 - val_loss: 0.5823 - val_acc: 0.8321\n",
      "Epoch 17/300\n",
      "623/623 [==============================] - 0s 90us/step - loss: 0.3316 - acc: 0.8636 - val_loss: 0.6232 - val_acc: 0.8078\n",
      "Epoch 18/300\n",
      "623/623 [==============================] - 0s 178us/step - loss: 0.3317 - acc: 0.8684 - val_loss: 0.5734 - val_acc: 0.8246\n",
      "Epoch 19/300\n",
      "623/623 [==============================] - 0s 186us/step - loss: 0.3294 - acc: 0.8587 - val_loss: 0.6831 - val_acc: 0.7948\n",
      "Epoch 20/300\n",
      "623/623 [==============================] - 0s 154us/step - loss: 0.3254 - acc: 0.8700 - val_loss: 0.6435 - val_acc: 0.8134\n",
      "Epoch 21/300\n",
      "623/623 [==============================] - 0s 117us/step - loss: 0.3230 - acc: 0.8604 - val_loss: 0.5765 - val_acc: 0.8134\n",
      "Epoch 22/300\n",
      "623/623 [==============================] - 0s 107us/step - loss: 0.3309 - acc: 0.8700 - val_loss: 0.5933 - val_acc: 0.8321\n",
      "Epoch 23/300\n",
      "623/623 [==============================] - 0s 125us/step - loss: 0.3213 - acc: 0.8612 - val_loss: 0.6028 - val_acc: 0.8022\n",
      "Epoch 24/300\n",
      "623/623 [==============================] - 0s 118us/step - loss: 0.3286 - acc: 0.8652 - val_loss: 0.6205 - val_acc: 0.8060\n",
      "Epoch 25/300\n",
      "623/623 [==============================] - 0s 98us/step - loss: 0.3344 - acc: 0.8612 - val_loss: 0.6368 - val_acc: 0.8097\n",
      "Epoch 26/300\n",
      "623/623 [==============================] - 0s 96us/step - loss: 0.3188 - acc: 0.8732 - val_loss: 0.6399 - val_acc: 0.7948\n",
      "Epoch 27/300\n",
      "623/623 [==============================] - 0s 86us/step - loss: 0.3400 - acc: 0.8644 - val_loss: 0.7020 - val_acc: 0.8078\n",
      "Epoch 28/300\n",
      "623/623 [==============================] - 0s 154us/step - loss: 0.3264 - acc: 0.8555 - val_loss: 0.6161 - val_acc: 0.8134\n",
      "Epoch 29/300\n",
      "623/623 [==============================] - 0s 138us/step - loss: 0.3290 - acc: 0.8579 - val_loss: 0.5509 - val_acc: 0.8209\n",
      "Epoch 30/300\n",
      "623/623 [==============================] - 0s 131us/step - loss: 0.3247 - acc: 0.8652 - val_loss: 0.6088 - val_acc: 0.8134\n",
      "Epoch 31/300\n",
      "623/623 [==============================] - 0s 107us/step - loss: 0.3238 - acc: 0.8596 - val_loss: 0.6134 - val_acc: 0.8134\n",
      "Epoch 32/300\n",
      "623/623 [==============================] - 0s 128us/step - loss: 0.3163 - acc: 0.8507 - val_loss: 0.6970 - val_acc: 0.8060\n",
      "Epoch 33/300\n",
      "623/623 [==============================] - 0s 107us/step - loss: 0.3347 - acc: 0.8660 - val_loss: 0.5805 - val_acc: 0.8190\n",
      "Epoch 34/300\n",
      "623/623 [==============================] - 0s 118us/step - loss: 0.3380 - acc: 0.8539 - val_loss: 0.5962 - val_acc: 0.8190\n",
      "Epoch 35/300\n",
      "623/623 [==============================] - 0s 94us/step - loss: 0.3179 - acc: 0.8732 - val_loss: 0.6326 - val_acc: 0.8097\n",
      "Epoch 36/300\n",
      "623/623 [==============================] - 0s 80us/step - loss: 0.3187 - acc: 0.8596 - val_loss: 0.5862 - val_acc: 0.8153\n",
      "Epoch 37/300\n",
      "623/623 [==============================] - 0s 86us/step - loss: 0.3217 - acc: 0.8547 - val_loss: 0.5902 - val_acc: 0.8078\n",
      "Epoch 38/300\n",
      "623/623 [==============================] - 0s 88us/step - loss: 0.3236 - acc: 0.8555 - val_loss: 0.6111 - val_acc: 0.8190\n",
      "Epoch 39/300\n",
      "623/623 [==============================] - 0s 83us/step - loss: 0.3300 - acc: 0.8652 - val_loss: 0.6042 - val_acc: 0.8116\n",
      "Epoch 40/300\n",
      "623/623 [==============================] - 0s 107us/step - loss: 0.3177 - acc: 0.8620 - val_loss: 0.6512 - val_acc: 0.8209\n",
      "Epoch 41/300\n",
      "623/623 [==============================] - 0s 109us/step - loss: 0.3343 - acc: 0.8708 - val_loss: 0.6632 - val_acc: 0.8041\n",
      "Epoch 42/300\n",
      "623/623 [==============================] - 0s 123us/step - loss: 0.3101 - acc: 0.8660 - val_loss: 0.6159 - val_acc: 0.8228\n",
      "Epoch 43/300\n",
      "623/623 [==============================] - 0s 110us/step - loss: 0.3300 - acc: 0.8620 - val_loss: 0.6080 - val_acc: 0.8172\n",
      "Epoch 44/300\n",
      "623/623 [==============================] - 0s 96us/step - loss: 0.3157 - acc: 0.8579 - val_loss: 0.6260 - val_acc: 0.8041\n",
      "Epoch 45/300\n",
      "623/623 [==============================] - 0s 102us/step - loss: 0.3155 - acc: 0.8684 - val_loss: 0.6494 - val_acc: 0.8078\n",
      "Epoch 46/300\n",
      "623/623 [==============================] - 0s 91us/step - loss: 0.3134 - acc: 0.8668 - val_loss: 0.5921 - val_acc: 0.8172\n",
      "Epoch 47/300\n",
      "623/623 [==============================] - 0s 80us/step - loss: 0.3190 - acc: 0.8660 - val_loss: 0.6215 - val_acc: 0.8377\n",
      "Epoch 48/300\n",
      "623/623 [==============================] - 0s 88us/step - loss: 0.3288 - acc: 0.8676 - val_loss: 0.6777 - val_acc: 0.8022\n",
      "Epoch 49/300\n",
      "623/623 [==============================] - 0s 82us/step - loss: 0.3173 - acc: 0.8676 - val_loss: 0.5984 - val_acc: 0.8172\n",
      "Epoch 50/300\n",
      "623/623 [==============================] - 0s 93us/step - loss: 0.3084 - acc: 0.8764 - val_loss: 0.6269 - val_acc: 0.8134\n",
      "Epoch 51/300\n",
      "623/623 [==============================] - 0s 94us/step - loss: 0.3216 - acc: 0.8644 - val_loss: 0.5763 - val_acc: 0.8321\n",
      "Epoch 52/300\n",
      "623/623 [==============================] - 0s 98us/step - loss: 0.3300 - acc: 0.8652 - val_loss: 0.6114 - val_acc: 0.8172\n",
      "Epoch 53/300\n",
      "623/623 [==============================] - 0s 99us/step - loss: 0.3115 - acc: 0.8700 - val_loss: 0.6471 - val_acc: 0.8060\n",
      "Epoch 54/300\n",
      "623/623 [==============================] - 0s 90us/step - loss: 0.3139 - acc: 0.8684 - val_loss: 0.6088 - val_acc: 0.8246\n",
      "Epoch 55/300\n",
      "623/623 [==============================] - 0s 102us/step - loss: 0.3237 - acc: 0.8676 - val_loss: 0.6004 - val_acc: 0.8153\n",
      "Epoch 56/300\n",
      "623/623 [==============================] - 0s 88us/step - loss: 0.3171 - acc: 0.8692 - val_loss: 0.6673 - val_acc: 0.8209\n",
      "Epoch 57/300\n",
      "623/623 [==============================] - 0s 91us/step - loss: 0.3235 - acc: 0.8612 - val_loss: 0.6386 - val_acc: 0.8284\n",
      "Epoch 58/300\n",
      "623/623 [==============================] - 0s 86us/step - loss: 0.3169 - acc: 0.8636 - val_loss: 0.7067 - val_acc: 0.8078\n",
      "Epoch 59/300\n",
      "623/623 [==============================] - 0s 109us/step - loss: 0.3143 - acc: 0.8668 - val_loss: 0.6065 - val_acc: 0.8209\n",
      "Epoch 60/300\n",
      "623/623 [==============================] - 0s 109us/step - loss: 0.3186 - acc: 0.8660 - val_loss: 0.6104 - val_acc: 0.8153\n",
      "Epoch 61/300\n"
     ]
    },
    {
     "name": "stdout",
     "output_type": "stream",
     "text": [
      "623/623 [==============================] - 0s 98us/step - loss: 0.3108 - acc: 0.8684 - val_loss: 0.6493 - val_acc: 0.8284\n",
      "Epoch 62/300\n",
      "623/623 [==============================] - 0s 83us/step - loss: 0.3149 - acc: 0.8555 - val_loss: 0.6947 - val_acc: 0.8246\n",
      "Epoch 63/300\n",
      "623/623 [==============================] - 0s 91us/step - loss: 0.3275 - acc: 0.8628 - val_loss: 0.7088 - val_acc: 0.7985\n",
      "Epoch 64/300\n",
      "623/623 [==============================] - 0s 82us/step - loss: 0.3114 - acc: 0.8684 - val_loss: 0.6497 - val_acc: 0.8172\n",
      "Epoch 65/300\n",
      "623/623 [==============================] - 0s 83us/step - loss: 0.3212 - acc: 0.8636 - val_loss: 0.6089 - val_acc: 0.8060\n",
      "Epoch 66/300\n",
      "623/623 [==============================] - 0s 85us/step - loss: 0.3266 - acc: 0.8668 - val_loss: 0.6676 - val_acc: 0.8078\n",
      "Epoch 67/300\n",
      "623/623 [==============================] - 0s 85us/step - loss: 0.3103 - acc: 0.8764 - val_loss: 0.5923 - val_acc: 0.8060\n",
      "Epoch 68/300\n",
      "623/623 [==============================] - 0s 80us/step - loss: 0.3139 - acc: 0.8652 - val_loss: 0.6112 - val_acc: 0.8209\n",
      "Epoch 69/300\n",
      "623/623 [==============================] - 0s 101us/step - loss: 0.3106 - acc: 0.8732 - val_loss: 0.5720 - val_acc: 0.8097\n",
      "Epoch 70/300\n",
      "623/623 [==============================] - 0s 85us/step - loss: 0.3105 - acc: 0.8740 - val_loss: 0.6264 - val_acc: 0.8246\n",
      "Epoch 71/300\n",
      "623/623 [==============================] - 0s 80us/step - loss: 0.3112 - acc: 0.8764 - val_loss: 0.6817 - val_acc: 0.8190\n",
      "Epoch 72/300\n",
      "623/623 [==============================] - 0s 83us/step - loss: 0.3133 - acc: 0.8700 - val_loss: 0.6905 - val_acc: 0.8116\n",
      "Epoch 73/300\n",
      "623/623 [==============================] - 0s 83us/step - loss: 0.3143 - acc: 0.8740 - val_loss: 0.6157 - val_acc: 0.8078\n",
      "Epoch 74/300\n",
      "623/623 [==============================] - 0s 85us/step - loss: 0.3110 - acc: 0.8668 - val_loss: 0.7394 - val_acc: 0.8097\n",
      "Epoch 75/300\n",
      "623/623 [==============================] - 0s 83us/step - loss: 0.3287 - acc: 0.8636 - val_loss: 0.6315 - val_acc: 0.8190\n",
      "Epoch 76/300\n",
      "623/623 [==============================] - 0s 77us/step - loss: 0.3057 - acc: 0.8652 - val_loss: 0.6599 - val_acc: 0.8134\n",
      "Epoch 77/300\n",
      "623/623 [==============================] - 0s 86us/step - loss: 0.3175 - acc: 0.8612 - val_loss: 0.7290 - val_acc: 0.8172\n",
      "Epoch 78/300\n",
      "623/623 [==============================] - 0s 80us/step - loss: 0.3183 - acc: 0.8724 - val_loss: 0.6296 - val_acc: 0.8209\n",
      "Epoch 79/300\n",
      "623/623 [==============================] - 0s 93us/step - loss: 0.3074 - acc: 0.8604 - val_loss: 0.6952 - val_acc: 0.8246\n",
      "Epoch 80/300\n",
      "623/623 [==============================] - 0s 88us/step - loss: 0.3362 - acc: 0.8555 - val_loss: 0.6441 - val_acc: 0.8134\n",
      "Epoch 81/300\n",
      "623/623 [==============================] - 0s 82us/step - loss: 0.3156 - acc: 0.8652 - val_loss: 0.6094 - val_acc: 0.8172\n",
      "Epoch 82/300\n",
      "623/623 [==============================] - 0s 93us/step - loss: 0.3073 - acc: 0.8596 - val_loss: 0.7235 - val_acc: 0.8172\n",
      "Epoch 83/300\n",
      "623/623 [==============================] - 0s 82us/step - loss: 0.3147 - acc: 0.8692 - val_loss: 0.7350 - val_acc: 0.8116\n",
      "Epoch 84/300\n",
      "623/623 [==============================] - 0s 82us/step - loss: 0.3348 - acc: 0.8491 - val_loss: 0.6378 - val_acc: 0.8265\n",
      "Epoch 85/300\n",
      "623/623 [==============================] - 0s 91us/step - loss: 0.3021 - acc: 0.8676 - val_loss: 0.6553 - val_acc: 0.8172\n",
      "Epoch 86/300\n",
      "623/623 [==============================] - 0s 85us/step - loss: 0.2972 - acc: 0.8716 - val_loss: 0.7355 - val_acc: 0.8116\n",
      "Epoch 87/300\n",
      "623/623 [==============================] - 0s 83us/step - loss: 0.3284 - acc: 0.8652 - val_loss: 0.6584 - val_acc: 0.8134\n",
      "Epoch 88/300\n",
      "623/623 [==============================] - 0s 86us/step - loss: 0.3162 - acc: 0.8636 - val_loss: 0.7000 - val_acc: 0.8134\n",
      "Epoch 89/300\n",
      "623/623 [==============================] - 0s 82us/step - loss: 0.3104 - acc: 0.8644 - val_loss: 0.6736 - val_acc: 0.8190\n",
      "Epoch 90/300\n",
      "623/623 [==============================] - 0s 91us/step - loss: 0.3170 - acc: 0.8668 - val_loss: 0.6714 - val_acc: 0.8134\n",
      "Epoch 91/300\n",
      "623/623 [==============================] - 0s 83us/step - loss: 0.3057 - acc: 0.8716 - val_loss: 0.7103 - val_acc: 0.8041\n",
      "Epoch 92/300\n",
      "623/623 [==============================] - 0s 85us/step - loss: 0.3276 - acc: 0.8596 - val_loss: 0.6577 - val_acc: 0.8172\n",
      "Epoch 93/300\n",
      "623/623 [==============================] - 0s 94us/step - loss: 0.3183 - acc: 0.8587 - val_loss: 0.6463 - val_acc: 0.8209\n",
      "Epoch 94/300\n",
      "623/623 [==============================] - 0s 85us/step - loss: 0.3081 - acc: 0.8708 - val_loss: 0.6579 - val_acc: 0.8265\n",
      "Epoch 95/300\n",
      "623/623 [==============================] - 0s 85us/step - loss: 0.3209 - acc: 0.8660 - val_loss: 0.6657 - val_acc: 0.8209\n",
      "Epoch 96/300\n",
      "623/623 [==============================] - 0s 83us/step - loss: 0.3174 - acc: 0.8628 - val_loss: 0.6392 - val_acc: 0.8134\n",
      "Epoch 97/300\n",
      "623/623 [==============================] - 0s 98us/step - loss: 0.3160 - acc: 0.8708 - val_loss: 0.6228 - val_acc: 0.8172\n",
      "Epoch 98/300\n",
      "623/623 [==============================] - 0s 82us/step - loss: 0.3087 - acc: 0.8692 - val_loss: 0.6868 - val_acc: 0.8209\n",
      "Epoch 99/300\n",
      "623/623 [==============================] - 0s 106us/step - loss: 0.3049 - acc: 0.8700 - val_loss: 0.7010 - val_acc: 0.8302\n",
      "Epoch 100/300\n",
      "623/623 [==============================] - 0s 78us/step - loss: 0.3179 - acc: 0.8660 - val_loss: 0.6417 - val_acc: 0.8190\n",
      "Epoch 101/300\n",
      "623/623 [==============================] - 0s 86us/step - loss: 0.3059 - acc: 0.8620 - val_loss: 0.6222 - val_acc: 0.8060\n",
      "Epoch 102/300\n",
      "623/623 [==============================] - 0s 78us/step - loss: 0.3468 - acc: 0.8620 - val_loss: 0.7065 - val_acc: 0.8172\n",
      "Epoch 103/300\n",
      "623/623 [==============================] - 0s 99us/step - loss: 0.3113 - acc: 0.8604 - val_loss: 0.6446 - val_acc: 0.8153\n",
      "Epoch 104/300\n",
      "623/623 [==============================] - 0s 78us/step - loss: 0.3107 - acc: 0.8692 - val_loss: 0.6398 - val_acc: 0.8190\n",
      "Epoch 105/300\n",
      "623/623 [==============================] - 0s 86us/step - loss: 0.3177 - acc: 0.8555 - val_loss: 0.6182 - val_acc: 0.8097\n",
      "Epoch 106/300\n",
      "623/623 [==============================] - 0s 80us/step - loss: 0.3086 - acc: 0.8652 - val_loss: 0.6642 - val_acc: 0.8172\n",
      "Epoch 107/300\n",
      "623/623 [==============================] - 0s 99us/step - loss: 0.3264 - acc: 0.8644 - val_loss: 0.7048 - val_acc: 0.8209\n",
      "Epoch 108/300\n",
      "623/623 [==============================] - 0s 90us/step - loss: 0.3098 - acc: 0.8612 - val_loss: 0.6742 - val_acc: 0.8284\n",
      "Epoch 109/300\n",
      "623/623 [==============================] - 0s 82us/step - loss: 0.3118 - acc: 0.8636 - val_loss: 0.6354 - val_acc: 0.8284\n",
      "Epoch 110/300\n",
      "623/623 [==============================] - 0s 93us/step - loss: 0.3292 - acc: 0.8636 - val_loss: 0.6398 - val_acc: 0.8078\n",
      "Epoch 111/300\n",
      "623/623 [==============================] - 0s 80us/step - loss: 0.3034 - acc: 0.8684 - val_loss: 0.6823 - val_acc: 0.8172\n",
      "Epoch 112/300\n",
      "623/623 [==============================] - 0s 96us/step - loss: 0.3233 - acc: 0.8636 - val_loss: 0.7292 - val_acc: 0.8116\n",
      "Epoch 113/300\n",
      "623/623 [==============================] - 0s 80us/step - loss: 0.3097 - acc: 0.8700 - val_loss: 0.6884 - val_acc: 0.8209\n",
      "Epoch 114/300\n",
      "623/623 [==============================] - 0s 86us/step - loss: 0.3109 - acc: 0.8660 - val_loss: 0.6426 - val_acc: 0.8172\n",
      "Epoch 115/300\n",
      "623/623 [==============================] - 0s 88us/step - loss: 0.3132 - acc: 0.8716 - val_loss: 0.6464 - val_acc: 0.8134\n",
      "Epoch 116/300\n",
      "623/623 [==============================] - 0s 94us/step - loss: 0.3169 - acc: 0.8612 - val_loss: 0.6475 - val_acc: 0.8078\n",
      "Epoch 117/300\n",
      "623/623 [==============================] - 0s 90us/step - loss: 0.3071 - acc: 0.8652 - val_loss: 0.8771 - val_acc: 0.7985\n",
      "Epoch 118/300\n",
      "623/623 [==============================] - 0s 94us/step - loss: 0.3406 - acc: 0.8708 - val_loss: 0.6566 - val_acc: 0.8097\n",
      "Epoch 119/300\n",
      "623/623 [==============================] - 0s 82us/step - loss: 0.3029 - acc: 0.8628 - val_loss: 0.6739 - val_acc: 0.8209\n",
      "Epoch 120/300\n",
      "623/623 [==============================] - 0s 80us/step - loss: 0.3077 - acc: 0.8604 - val_loss: 0.6203 - val_acc: 0.8209\n",
      "Epoch 121/300\n"
     ]
    },
    {
     "name": "stdout",
     "output_type": "stream",
     "text": [
      "623/623 [==============================] - 0s 96us/step - loss: 0.3327 - acc: 0.8732 - val_loss: 0.6808 - val_acc: 0.8097\n",
      "Epoch 122/300\n",
      "623/623 [==============================] - 0s 90us/step - loss: 0.3065 - acc: 0.8652 - val_loss: 0.7108 - val_acc: 0.8190\n",
      "Epoch 123/300\n",
      "623/623 [==============================] - 0s 88us/step - loss: 0.3058 - acc: 0.8604 - val_loss: 0.6680 - val_acc: 0.8097\n",
      "Epoch 124/300\n",
      "623/623 [==============================] - 0s 74us/step - loss: 0.3257 - acc: 0.8636 - val_loss: 0.6503 - val_acc: 0.8209\n",
      "Epoch 125/300\n",
      "623/623 [==============================] - 0s 83us/step - loss: 0.3085 - acc: 0.8748 - val_loss: 0.7152 - val_acc: 0.8265\n",
      "Epoch 126/300\n",
      "623/623 [==============================] - 0s 90us/step - loss: 0.3301 - acc: 0.8684 - val_loss: 0.6933 - val_acc: 0.8190\n",
      "Epoch 127/300\n",
      "623/623 [==============================] - 0s 85us/step - loss: 0.3062 - acc: 0.8748 - val_loss: 0.7972 - val_acc: 0.8153\n",
      "Epoch 128/300\n",
      "623/623 [==============================] - 0s 82us/step - loss: 0.3064 - acc: 0.8652 - val_loss: 0.7071 - val_acc: 0.8153\n",
      "Epoch 129/300\n",
      "623/623 [==============================] - 0s 80us/step - loss: 0.3097 - acc: 0.8676 - val_loss: 0.6306 - val_acc: 0.8190\n",
      "Epoch 130/300\n",
      "623/623 [==============================] - 0s 90us/step - loss: 0.3109 - acc: 0.8644 - val_loss: 0.6823 - val_acc: 0.8228\n",
      "Epoch 131/300\n",
      "623/623 [==============================] - 0s 75us/step - loss: 0.3126 - acc: 0.8644 - val_loss: 0.7149 - val_acc: 0.8022\n",
      "Epoch 132/300\n",
      "623/623 [==============================] - 0s 80us/step - loss: 0.2985 - acc: 0.8748 - val_loss: 0.9103 - val_acc: 0.8022\n",
      "Epoch 133/300\n",
      "623/623 [==============================] - 0s 80us/step - loss: 0.3278 - acc: 0.8628 - val_loss: 0.6584 - val_acc: 0.8265\n",
      "Epoch 134/300\n",
      "623/623 [==============================] - 0s 83us/step - loss: 0.2998 - acc: 0.8724 - val_loss: 0.7265 - val_acc: 0.8265\n",
      "Epoch 135/300\n",
      "623/623 [==============================] - 0s 88us/step - loss: 0.3234 - acc: 0.8724 - val_loss: 0.6650 - val_acc: 0.8190\n",
      "Epoch 136/300\n",
      "623/623 [==============================] - 0s 82us/step - loss: 0.2971 - acc: 0.8756 - val_loss: 0.6731 - val_acc: 0.8097\n",
      "Epoch 137/300\n",
      "623/623 [==============================] - 0s 106us/step - loss: 0.2985 - acc: 0.8684 - val_loss: 0.7140 - val_acc: 0.8209\n",
      "Epoch 138/300\n",
      "623/623 [==============================] - 0s 77us/step - loss: 0.3118 - acc: 0.8644 - val_loss: 0.7528 - val_acc: 0.8190\n",
      "Epoch 139/300\n",
      "623/623 [==============================] - 0s 90us/step - loss: 0.3025 - acc: 0.8684 - val_loss: 0.7004 - val_acc: 0.8116\n",
      "Epoch 140/300\n",
      "623/623 [==============================] - 0s 90us/step - loss: 0.3059 - acc: 0.8628 - val_loss: 0.6677 - val_acc: 0.8022\n",
      "Epoch 141/300\n",
      "623/623 [==============================] - 0s 83us/step - loss: 0.3058 - acc: 0.8652 - val_loss: 0.7321 - val_acc: 0.8078\n",
      "Epoch 142/300\n",
      "623/623 [==============================] - 0s 134us/step - loss: 0.3020 - acc: 0.8700 - val_loss: 0.7204 - val_acc: 0.8209\n",
      "Epoch 143/300\n",
      "623/623 [==============================] - 0s 176us/step - loss: 0.3193 - acc: 0.8596 - val_loss: 0.6638 - val_acc: 0.8209\n",
      "Epoch 144/300\n",
      "623/623 [==============================] - 0s 157us/step - loss: 0.3239 - acc: 0.8684 - val_loss: 0.6896 - val_acc: 0.8134\n",
      "Epoch 145/300\n",
      "623/623 [==============================] - 0s 152us/step - loss: 0.3057 - acc: 0.8620 - val_loss: 0.7345 - val_acc: 0.8116\n",
      "Epoch 146/300\n",
      "623/623 [==============================] - 0s 96us/step - loss: 0.2958 - acc: 0.8836 - val_loss: 0.7108 - val_acc: 0.8209\n",
      "Epoch 147/300\n",
      "623/623 [==============================] - 0s 99us/step - loss: 0.3028 - acc: 0.8764 - val_loss: 0.7193 - val_acc: 0.8228\n",
      "Epoch 148/300\n",
      "623/623 [==============================] - 0s 122us/step - loss: 0.3084 - acc: 0.8668 - val_loss: 0.7184 - val_acc: 0.8209\n",
      "Epoch 149/300\n",
      "623/623 [==============================] - 0s 171us/step - loss: 0.2951 - acc: 0.8724 - val_loss: 0.9634 - val_acc: 0.7985\n",
      "Epoch 150/300\n",
      "623/623 [==============================] - 0s 165us/step - loss: 0.3189 - acc: 0.8620 - val_loss: 0.7257 - val_acc: 0.8172\n",
      "Epoch 151/300\n",
      "623/623 [==============================] - 0s 123us/step - loss: 0.3081 - acc: 0.8676 - val_loss: 0.7009 - val_acc: 0.8190\n",
      "Epoch 152/300\n",
      "623/623 [==============================] - 0s 139us/step - loss: 0.3124 - acc: 0.8748 - val_loss: 0.7152 - val_acc: 0.8116\n",
      "Epoch 153/300\n",
      "623/623 [==============================] - 0s 99us/step - loss: 0.3011 - acc: 0.8748 - val_loss: 0.7414 - val_acc: 0.7985\n",
      "Epoch 154/300\n",
      "623/623 [==============================] - 0s 110us/step - loss: 0.2996 - acc: 0.8732 - val_loss: 0.7581 - val_acc: 0.8116\n",
      "Epoch 155/300\n",
      "623/623 [==============================] - 0s 98us/step - loss: 0.3182 - acc: 0.8700 - val_loss: 0.6836 - val_acc: 0.8190\n",
      "Epoch 156/300\n",
      "623/623 [==============================] - 0s 88us/step - loss: 0.2945 - acc: 0.8676 - val_loss: 0.7306 - val_acc: 0.8265\n",
      "Epoch 157/300\n",
      "623/623 [==============================] - 0s 149us/step - loss: 0.2965 - acc: 0.8748 - val_loss: 0.7179 - val_acc: 0.8265\n",
      "Epoch 158/300\n",
      "623/623 [==============================] - 0s 158us/step - loss: 0.3125 - acc: 0.8620 - val_loss: 0.6607 - val_acc: 0.8284\n",
      "Epoch 159/300\n",
      "623/623 [==============================] - 0s 157us/step - loss: 0.3152 - acc: 0.8644 - val_loss: 0.8560 - val_acc: 0.8022\n",
      "Epoch 160/300\n",
      "623/623 [==============================] - 0s 133us/step - loss: 0.3135 - acc: 0.8676 - val_loss: 0.7241 - val_acc: 0.8209\n",
      "Epoch 161/300\n",
      "623/623 [==============================] - 0s 144us/step - loss: 0.2990 - acc: 0.8612 - val_loss: 0.7154 - val_acc: 0.8209\n",
      "Epoch 162/300\n",
      "623/623 [==============================] - 0s 104us/step - loss: 0.2937 - acc: 0.8740 - val_loss: 0.8426 - val_acc: 0.8246\n",
      "Epoch 163/300\n",
      "623/623 [==============================] - 0s 98us/step - loss: 0.3173 - acc: 0.8756 - val_loss: 0.7480 - val_acc: 0.8265\n",
      "Epoch 164/300\n",
      "623/623 [==============================] - 0s 88us/step - loss: 0.3049 - acc: 0.8644 - val_loss: 0.7532 - val_acc: 0.8321\n",
      "Epoch 165/300\n",
      "623/623 [==============================] - 0s 90us/step - loss: 0.3076 - acc: 0.8668 - val_loss: 0.7371 - val_acc: 0.8265\n",
      "Epoch 166/300\n",
      "623/623 [==============================] - 0s 82us/step - loss: 0.3253 - acc: 0.8563 - val_loss: 0.6439 - val_acc: 0.8246\n",
      "Epoch 167/300\n",
      "623/623 [==============================] - 0s 88us/step - loss: 0.2935 - acc: 0.8692 - val_loss: 0.7342 - val_acc: 0.8097\n",
      "Epoch 168/300\n",
      "623/623 [==============================] - 0s 78us/step - loss: 0.3071 - acc: 0.8772 - val_loss: 0.7594 - val_acc: 0.8209\n",
      "Epoch 169/300\n",
      "623/623 [==============================] - 0s 83us/step - loss: 0.3007 - acc: 0.8772 - val_loss: 0.6835 - val_acc: 0.8172\n",
      "Epoch 170/300\n",
      "623/623 [==============================] - 0s 85us/step - loss: 0.3047 - acc: 0.8756 - val_loss: 0.7651 - val_acc: 0.8190\n",
      "Epoch 171/300\n",
      "623/623 [==============================] - 0s 83us/step - loss: 0.3237 - acc: 0.8676 - val_loss: 0.6837 - val_acc: 0.8246\n",
      "Epoch 172/300\n",
      "623/623 [==============================] - 0s 86us/step - loss: 0.2964 - acc: 0.8748 - val_loss: 0.7603 - val_acc: 0.8134\n",
      "Epoch 173/300\n",
      "623/623 [==============================] - 0s 109us/step - loss: 0.2968 - acc: 0.8724 - val_loss: 0.7362 - val_acc: 0.8190\n",
      "Epoch 174/300\n",
      "623/623 [==============================] - 0s 101us/step - loss: 0.3063 - acc: 0.8708 - val_loss: 0.7068 - val_acc: 0.8097\n",
      "Epoch 175/300\n",
      "623/623 [==============================] - 0s 96us/step - loss: 0.3084 - acc: 0.8628 - val_loss: 0.7140 - val_acc: 0.8078\n",
      "Epoch 176/300\n",
      "623/623 [==============================] - 0s 85us/step - loss: 0.2974 - acc: 0.8668 - val_loss: 0.6826 - val_acc: 0.8153\n",
      "Epoch 177/300\n",
      "623/623 [==============================] - 0s 85us/step - loss: 0.2938 - acc: 0.8764 - val_loss: 0.7340 - val_acc: 0.8246\n",
      "Epoch 178/300\n",
      "623/623 [==============================] - 0s 83us/step - loss: 0.3813 - acc: 0.8539 - val_loss: 0.6640 - val_acc: 0.8228\n",
      "Epoch 179/300\n",
      "623/623 [==============================] - 0s 90us/step - loss: 0.2955 - acc: 0.8668 - val_loss: 0.6715 - val_acc: 0.8172\n",
      "Epoch 180/300\n",
      "623/623 [==============================] - 0s 82us/step - loss: 0.2962 - acc: 0.8764 - val_loss: 0.8131 - val_acc: 0.8097\n",
      "Epoch 181/300\n"
     ]
    },
    {
     "name": "stdout",
     "output_type": "stream",
     "text": [
      "623/623 [==============================] - 0s 86us/step - loss: 0.3121 - acc: 0.8652 - val_loss: 0.7529 - val_acc: 0.8190\n",
      "Epoch 182/300\n",
      "623/623 [==============================] - 0s 86us/step - loss: 0.3026 - acc: 0.8684 - val_loss: 0.7432 - val_acc: 0.8190\n",
      "Epoch 183/300\n",
      "623/623 [==============================] - 0s 90us/step - loss: 0.3085 - acc: 0.8620 - val_loss: 0.7302 - val_acc: 0.8172\n",
      "Epoch 184/300\n",
      "623/623 [==============================] - 0s 82us/step - loss: 0.3085 - acc: 0.8732 - val_loss: 0.6789 - val_acc: 0.8284\n",
      "Epoch 185/300\n",
      "623/623 [==============================] - 0s 80us/step - loss: 0.2957 - acc: 0.8732 - val_loss: 0.7392 - val_acc: 0.8134\n",
      "Epoch 186/300\n",
      "623/623 [==============================] - 0s 83us/step - loss: 0.3101 - acc: 0.8724 - val_loss: 0.6877 - val_acc: 0.8134\n",
      "Epoch 187/300\n",
      "623/623 [==============================] - 0s 83us/step - loss: 0.3193 - acc: 0.8724 - val_loss: 0.6457 - val_acc: 0.8172\n",
      "Epoch 188/300\n",
      "623/623 [==============================] - 0s 91us/step - loss: 0.2991 - acc: 0.8724 - val_loss: 0.7290 - val_acc: 0.8246\n",
      "Epoch 189/300\n",
      "623/623 [==============================] - 0s 99us/step - loss: 0.3120 - acc: 0.8724 - val_loss: 0.6541 - val_acc: 0.8302\n",
      "Epoch 190/300\n",
      "623/623 [==============================] - 0s 160us/step - loss: 0.2961 - acc: 0.8684 - val_loss: 0.6922 - val_acc: 0.8284\n",
      "Epoch 191/300\n",
      "623/623 [==============================] - 0s 110us/step - loss: 0.3053 - acc: 0.8732 - val_loss: 0.6698 - val_acc: 0.8209\n",
      "Epoch 192/300\n",
      "623/623 [==============================] - 0s 117us/step - loss: 0.2994 - acc: 0.8716 - val_loss: 0.7645 - val_acc: 0.8060\n",
      "Epoch 193/300\n",
      "623/623 [==============================] - 0s 139us/step - loss: 0.3041 - acc: 0.8660 - val_loss: 0.7033 - val_acc: 0.8228\n",
      "Epoch 194/300\n",
      "623/623 [==============================] - 0s 149us/step - loss: 0.2910 - acc: 0.8684 - val_loss: 0.6702 - val_acc: 0.8358\n",
      "Epoch 195/300\n",
      "623/623 [==============================] - 0s 155us/step - loss: 0.3065 - acc: 0.8628 - val_loss: 0.7276 - val_acc: 0.8078\n",
      "Epoch 196/300\n",
      "623/623 [==============================] - 0s 102us/step - loss: 0.3111 - acc: 0.8684 - val_loss: 0.7349 - val_acc: 0.8228\n",
      "Epoch 197/300\n",
      "623/623 [==============================] - 0s 118us/step - loss: 0.2952 - acc: 0.8668 - val_loss: 0.8437 - val_acc: 0.8209\n",
      "Epoch 198/300\n",
      "623/623 [==============================] - 0s 91us/step - loss: 0.3081 - acc: 0.8563 - val_loss: 0.6966 - val_acc: 0.8414\n",
      "Epoch 199/300\n",
      "623/623 [==============================] - 0s 90us/step - loss: 0.3015 - acc: 0.8740 - val_loss: 0.7628 - val_acc: 0.8228\n",
      "Epoch 200/300\n",
      "623/623 [==============================] - 0s 158us/step - loss: 0.3065 - acc: 0.8724 - val_loss: 0.7454 - val_acc: 0.8172\n",
      "Epoch 201/300\n",
      "623/623 [==============================] - 0s 152us/step - loss: 0.2905 - acc: 0.8716 - val_loss: 0.8116 - val_acc: 0.8172\n",
      "Epoch 202/300\n",
      "623/623 [==============================] - 0s 125us/step - loss: 0.3179 - acc: 0.8732 - val_loss: 0.7365 - val_acc: 0.8302\n",
      "Epoch 203/300\n",
      "623/623 [==============================] - 0s 96us/step - loss: 0.3221 - acc: 0.8660 - val_loss: 0.6714 - val_acc: 0.8134\n",
      "Epoch 204/300\n",
      "623/623 [==============================] - 0s 91us/step - loss: 0.2883 - acc: 0.8796 - val_loss: 0.6864 - val_acc: 0.8190\n",
      "Epoch 205/300\n",
      "623/623 [==============================] - 0s 86us/step - loss: 0.2897 - acc: 0.8780 - val_loss: 0.7976 - val_acc: 0.8284\n",
      "Epoch 206/300\n",
      "623/623 [==============================] - 0s 93us/step - loss: 0.3302 - acc: 0.8587 - val_loss: 0.6607 - val_acc: 0.8228\n",
      "Epoch 207/300\n",
      "623/623 [==============================] - 0s 170us/step - loss: 0.2954 - acc: 0.8660 - val_loss: 0.7689 - val_acc: 0.8116\n",
      "Epoch 208/300\n",
      "623/623 [==============================] - 0s 146us/step - loss: 0.3034 - acc: 0.8796 - val_loss: 0.7885 - val_acc: 0.8134\n",
      "Epoch 209/300\n",
      "623/623 [==============================] - 0s 117us/step - loss: 0.3293 - acc: 0.8636 - val_loss: 0.6844 - val_acc: 0.8209\n",
      "Epoch 210/300\n",
      "623/623 [==============================] - 0s 128us/step - loss: 0.2872 - acc: 0.8764 - val_loss: 0.7256 - val_acc: 0.8060\n",
      "Epoch 211/300\n",
      "623/623 [==============================] - 0s 106us/step - loss: 0.3116 - acc: 0.8700 - val_loss: 0.7257 - val_acc: 0.8209\n",
      "Epoch 212/300\n",
      "623/623 [==============================] - 0s 122us/step - loss: 0.2976 - acc: 0.8668 - val_loss: 0.6691 - val_acc: 0.8134\n",
      "Epoch 213/300\n",
      "623/623 [==============================] - 0s 106us/step - loss: 0.2972 - acc: 0.8676 - val_loss: 0.7446 - val_acc: 0.8097\n",
      "Epoch 214/300\n",
      "623/623 [==============================] - 0s 85us/step - loss: 0.3044 - acc: 0.8772 - val_loss: 0.7613 - val_acc: 0.8022\n",
      "Epoch 215/300\n",
      "623/623 [==============================] - 0s 80us/step - loss: 0.3050 - acc: 0.8628 - val_loss: 0.7399 - val_acc: 0.8060\n",
      "Epoch 216/300\n",
      "623/623 [==============================] - 0s 101us/step - loss: 0.3019 - acc: 0.8652 - val_loss: 0.7915 - val_acc: 0.8153\n",
      "Epoch 217/300\n",
      "623/623 [==============================] - 0s 166us/step - loss: 0.2953 - acc: 0.8756 - val_loss: 0.7723 - val_acc: 0.8116\n",
      "Epoch 218/300\n",
      "623/623 [==============================] - 0s 150us/step - loss: 0.3030 - acc: 0.8692 - val_loss: 0.8102 - val_acc: 0.7929\n",
      "Epoch 219/300\n",
      "623/623 [==============================] - 0s 104us/step - loss: 0.2939 - acc: 0.8644 - val_loss: 0.7511 - val_acc: 0.8097\n",
      "Epoch 220/300\n",
      "623/623 [==============================] - 0s 115us/step - loss: 0.2927 - acc: 0.8748 - val_loss: 0.7580 - val_acc: 0.8097\n",
      "Epoch 221/300\n",
      "623/623 [==============================] - 0s 122us/step - loss: 0.3071 - acc: 0.8668 - val_loss: 0.7577 - val_acc: 0.7892\n",
      "Epoch 222/300\n",
      "623/623 [==============================] - 0s 107us/step - loss: 0.2956 - acc: 0.8756 - val_loss: 0.7468 - val_acc: 0.8022\n",
      "Epoch 223/300\n",
      "623/623 [==============================] - 0s 115us/step - loss: 0.3254 - acc: 0.8708 - val_loss: 0.6693 - val_acc: 0.8022\n",
      "Epoch 224/300\n",
      "623/623 [==============================] - 0s 104us/step - loss: 0.2970 - acc: 0.8724 - val_loss: 0.6939 - val_acc: 0.8022\n",
      "Epoch 225/300\n",
      "623/623 [==============================] - 0s 82us/step - loss: 0.2963 - acc: 0.8692 - val_loss: 0.7433 - val_acc: 0.8116\n",
      "Epoch 226/300\n",
      "623/623 [==============================] - 0s 122us/step - loss: 0.2942 - acc: 0.8708 - val_loss: 0.7358 - val_acc: 0.8209\n",
      "Epoch 227/300\n",
      "623/623 [==============================] - 0s 141us/step - loss: 0.3059 - acc: 0.8692 - val_loss: 0.7646 - val_acc: 0.8022\n",
      "Epoch 228/300\n",
      "623/623 [==============================] - 0s 109us/step - loss: 0.2989 - acc: 0.8756 - val_loss: 0.6831 - val_acc: 0.8190\n",
      "Epoch 229/300\n",
      "623/623 [==============================] - 0s 122us/step - loss: 0.2951 - acc: 0.8764 - val_loss: 0.7341 - val_acc: 0.8172\n",
      "Epoch 230/300\n",
      "623/623 [==============================] - 0s 138us/step - loss: 0.3085 - acc: 0.8628 - val_loss: 0.7944 - val_acc: 0.8060\n",
      "Epoch 231/300\n",
      "623/623 [==============================] - 0s 107us/step - loss: 0.2840 - acc: 0.8724 - val_loss: 0.7748 - val_acc: 0.8153\n",
      "Epoch 232/300\n",
      "623/623 [==============================] - 0s 149us/step - loss: 0.3043 - acc: 0.8732 - val_loss: 0.7723 - val_acc: 0.8078\n",
      "Epoch 233/300\n",
      "623/623 [==============================] - 0s 136us/step - loss: 0.2851 - acc: 0.8860 - val_loss: 0.7246 - val_acc: 0.8190\n",
      "Epoch 234/300\n",
      "623/623 [==============================] - 0s 114us/step - loss: 0.3069 - acc: 0.8740 - val_loss: 0.7617 - val_acc: 0.8209\n",
      "Epoch 235/300\n",
      "623/623 [==============================] - 0s 107us/step - loss: 0.2970 - acc: 0.8740 - val_loss: 0.7548 - val_acc: 0.8209\n",
      "Epoch 236/300\n",
      "623/623 [==============================] - 0s 106us/step - loss: 0.3036 - acc: 0.8764 - val_loss: 0.7255 - val_acc: 0.8060\n",
      "Epoch 237/300\n",
      "623/623 [==============================] - 0s 101us/step - loss: 0.2988 - acc: 0.8796 - val_loss: 0.8006 - val_acc: 0.8041\n",
      "Epoch 238/300\n",
      "623/623 [==============================] - 0s 123us/step - loss: 0.3447 - acc: 0.8555 - val_loss: 0.6634 - val_acc: 0.8134\n",
      "Epoch 239/300\n",
      "623/623 [==============================] - 0s 118us/step - loss: 0.2910 - acc: 0.8644 - val_loss: 0.7252 - val_acc: 0.8190\n",
      "Epoch 240/300\n",
      "623/623 [==============================] - 0s 118us/step - loss: 0.3072 - acc: 0.8756 - val_loss: 0.7205 - val_acc: 0.8228\n",
      "Epoch 241/300\n"
     ]
    },
    {
     "name": "stdout",
     "output_type": "stream",
     "text": [
      "623/623 [==============================] - 0s 120us/step - loss: 0.2984 - acc: 0.8692 - val_loss: 0.6653 - val_acc: 0.7985\n",
      "Epoch 242/300\n",
      "623/623 [==============================] - 0s 147us/step - loss: 0.3156 - acc: 0.8636 - val_loss: 0.6610 - val_acc: 0.8190\n",
      "Epoch 243/300\n",
      "623/623 [==============================] - 0s 133us/step - loss: 0.3149 - acc: 0.8644 - val_loss: 0.7669 - val_acc: 0.8060\n",
      "Epoch 244/300\n",
      "623/623 [==============================] - 0s 101us/step - loss: 0.2851 - acc: 0.8780 - val_loss: 0.7043 - val_acc: 0.8209\n",
      "Epoch 245/300\n",
      "623/623 [==============================] - 0s 123us/step - loss: 0.2906 - acc: 0.8764 - val_loss: 0.8710 - val_acc: 0.8022\n",
      "Epoch 246/300\n",
      "623/623 [==============================] - 0s 99us/step - loss: 0.3081 - acc: 0.8692 - val_loss: 0.6896 - val_acc: 0.8134\n",
      "Epoch 247/300\n",
      "623/623 [==============================] - 0s 181us/step - loss: 0.2919 - acc: 0.8756 - val_loss: 0.7003 - val_acc: 0.8358\n",
      "Epoch 248/300\n",
      "623/623 [==============================] - 0s 157us/step - loss: 0.3234 - acc: 0.8844 - val_loss: 0.6652 - val_acc: 0.8153\n",
      "Epoch 249/300\n",
      "623/623 [==============================] - 0s 101us/step - loss: 0.3102 - acc: 0.8708 - val_loss: 0.7051 - val_acc: 0.8246\n",
      "Epoch 250/300\n",
      "623/623 [==============================] - 0s 106us/step - loss: 0.2893 - acc: 0.8716 - val_loss: 0.7015 - val_acc: 0.8340\n",
      "Epoch 251/300\n",
      "623/623 [==============================] - 0s 94us/step - loss: 0.2937 - acc: 0.8812 - val_loss: 0.7621 - val_acc: 0.8134\n",
      "Epoch 252/300\n",
      "623/623 [==============================] - 0s 86us/step - loss: 0.2866 - acc: 0.8732 - val_loss: 0.8773 - val_acc: 0.8041\n",
      "Epoch 253/300\n",
      "623/623 [==============================] - 0s 86us/step - loss: 0.3138 - acc: 0.8652 - val_loss: 0.7742 - val_acc: 0.8190\n",
      "Epoch 254/300\n",
      "623/623 [==============================] - 0s 88us/step - loss: 0.2924 - acc: 0.8716 - val_loss: 0.7876 - val_acc: 0.8209\n",
      "Epoch 255/300\n",
      "623/623 [==============================] - 0s 88us/step - loss: 0.3106 - acc: 0.8700 - val_loss: 0.6684 - val_acc: 0.8134\n",
      "Epoch 256/300\n",
      "623/623 [==============================] - 0s 91us/step - loss: 0.2822 - acc: 0.8684 - val_loss: 0.7713 - val_acc: 0.8209\n",
      "Epoch 257/300\n",
      "623/623 [==============================] - 0s 90us/step - loss: 0.2990 - acc: 0.8804 - val_loss: 0.7523 - val_acc: 0.8228\n",
      "Epoch 258/300\n",
      "623/623 [==============================] - 0s 91us/step - loss: 0.3025 - acc: 0.8796 - val_loss: 0.7675 - val_acc: 0.8060\n",
      "Epoch 259/300\n",
      "623/623 [==============================] - 0s 90us/step - loss: 0.3040 - acc: 0.8788 - val_loss: 0.8137 - val_acc: 0.7780\n",
      "Epoch 260/300\n",
      "623/623 [==============================] - 0s 107us/step - loss: 0.2869 - acc: 0.8748 - val_loss: 0.8568 - val_acc: 0.8116\n",
      "Epoch 261/300\n",
      "623/623 [==============================] - 0s 98us/step - loss: 0.3069 - acc: 0.8804 - val_loss: 0.7304 - val_acc: 0.8153\n",
      "Epoch 262/300\n",
      "623/623 [==============================] - 0s 91us/step - loss: 0.2973 - acc: 0.8756 - val_loss: 0.7039 - val_acc: 0.8116\n",
      "Epoch 263/300\n",
      "623/623 [==============================] - 0s 85us/step - loss: 0.3083 - acc: 0.8716 - val_loss: 0.7065 - val_acc: 0.8116\n",
      "Epoch 264/300\n",
      "623/623 [==============================] - 0s 88us/step - loss: 0.2933 - acc: 0.8708 - val_loss: 0.7499 - val_acc: 0.8116\n",
      "Epoch 265/300\n",
      "623/623 [==============================] - 0s 85us/step - loss: 0.2840 - acc: 0.8796 - val_loss: 0.8043 - val_acc: 0.8097\n",
      "Epoch 266/300\n",
      "623/623 [==============================] - 0s 90us/step - loss: 0.3525 - acc: 0.8676 - val_loss: 0.6878 - val_acc: 0.8228\n",
      "Epoch 267/300\n",
      "623/623 [==============================] - 0s 90us/step - loss: 0.3337 - acc: 0.8692 - val_loss: 0.7116 - val_acc: 0.8116\n",
      "Epoch 268/300\n",
      "623/623 [==============================] - 0s 94us/step - loss: 0.2962 - acc: 0.8772 - val_loss: 0.8193 - val_acc: 0.7985\n",
      "Epoch 269/300\n",
      "623/623 [==============================] - 0s 98us/step - loss: 0.3289 - acc: 0.8700 - val_loss: 0.6560 - val_acc: 0.8116\n",
      "Epoch 270/300\n",
      "623/623 [==============================] - 0s 104us/step - loss: 0.3038 - acc: 0.8700 - val_loss: 0.7618 - val_acc: 0.8041\n",
      "Epoch 271/300\n",
      "623/623 [==============================] - 0s 82us/step - loss: 0.3124 - acc: 0.8579 - val_loss: 0.7140 - val_acc: 0.8153\n",
      "Epoch 272/300\n",
      "623/623 [==============================] - 0s 102us/step - loss: 0.2963 - acc: 0.8748 - val_loss: 0.7489 - val_acc: 0.8022\n",
      "Epoch 273/300\n",
      "623/623 [==============================] - 0s 83us/step - loss: 0.2903 - acc: 0.8756 - val_loss: 0.7665 - val_acc: 0.8209\n",
      "Epoch 274/300\n",
      "623/623 [==============================] - 0s 99us/step - loss: 0.3108 - acc: 0.8700 - val_loss: 0.6656 - val_acc: 0.8041\n",
      "Epoch 275/300\n",
      "623/623 [==============================] - 0s 85us/step - loss: 0.2860 - acc: 0.8716 - val_loss: 0.6783 - val_acc: 0.8134\n",
      "Epoch 276/300\n",
      "623/623 [==============================] - 0s 85us/step - loss: 0.2909 - acc: 0.8756 - val_loss: 0.7032 - val_acc: 0.7948\n",
      "Epoch 277/300\n",
      "623/623 [==============================] - 0s 94us/step - loss: 0.2900 - acc: 0.8844 - val_loss: 0.6642 - val_acc: 0.8284\n",
      "Epoch 278/300\n",
      "623/623 [==============================] - 0s 85us/step - loss: 0.3030 - acc: 0.8756 - val_loss: 0.7187 - val_acc: 0.8153\n",
      "Epoch 279/300\n",
      "623/623 [==============================] - 0s 93us/step - loss: 0.2876 - acc: 0.8836 - val_loss: 0.7894 - val_acc: 0.8172\n",
      "Epoch 280/300\n",
      "623/623 [==============================] - 0s 90us/step - loss: 0.3009 - acc: 0.8716 - val_loss: 0.6395 - val_acc: 0.8358\n",
      "Epoch 281/300\n",
      "623/623 [==============================] - 0s 85us/step - loss: 0.3131 - acc: 0.8604 - val_loss: 0.7032 - val_acc: 0.8265\n",
      "Epoch 282/300\n",
      "623/623 [==============================] - 0s 90us/step - loss: 0.2927 - acc: 0.8708 - val_loss: 0.7367 - val_acc: 0.8153\n",
      "Epoch 283/300\n",
      "623/623 [==============================] - 0s 90us/step - loss: 0.2948 - acc: 0.8836 - val_loss: 0.7961 - val_acc: 0.8209\n",
      "Epoch 284/300\n",
      "623/623 [==============================] - 0s 85us/step - loss: 0.3065 - acc: 0.8716 - val_loss: 0.7142 - val_acc: 0.8153\n",
      "Epoch 285/300\n",
      "623/623 [==============================] - 0s 90us/step - loss: 0.2975 - acc: 0.8780 - val_loss: 0.6666 - val_acc: 0.8414\n",
      "Epoch 286/300\n",
      "623/623 [==============================] - 0s 90us/step - loss: 0.3196 - acc: 0.8828 - val_loss: 0.7492 - val_acc: 0.8284\n",
      "Epoch 287/300\n",
      "623/623 [==============================] - 0s 86us/step - loss: 0.2950 - acc: 0.8692 - val_loss: 0.7463 - val_acc: 0.8078\n",
      "Epoch 288/300\n",
      "623/623 [==============================] - 0s 130us/step - loss: 0.2925 - acc: 0.8644 - val_loss: 0.7713 - val_acc: 0.8172\n",
      "Epoch 289/300\n",
      "623/623 [==============================] - 0s 134us/step - loss: 0.2941 - acc: 0.8756 - val_loss: 0.6687 - val_acc: 0.8190\n",
      "Epoch 290/300\n",
      "623/623 [==============================] - 0s 133us/step - loss: 0.3171 - acc: 0.8668 - val_loss: 0.6322 - val_acc: 0.8228\n",
      "Epoch 291/300\n",
      "623/623 [==============================] - 0s 136us/step - loss: 0.2834 - acc: 0.8804 - val_loss: 0.7590 - val_acc: 0.8153\n",
      "Epoch 292/300\n",
      "623/623 [==============================] - 0s 117us/step - loss: 0.2890 - acc: 0.8724 - val_loss: 0.7680 - val_acc: 0.7985\n",
      "Epoch 293/300\n",
      "623/623 [==============================] - 0s 117us/step - loss: 0.2914 - acc: 0.8820 - val_loss: 0.8696 - val_acc: 0.7966\n",
      "Epoch 294/300\n",
      "623/623 [==============================] - 0s 104us/step - loss: 0.2947 - acc: 0.8636 - val_loss: 0.7974 - val_acc: 0.7966\n",
      "Epoch 295/300\n",
      "623/623 [==============================] - 0s 125us/step - loss: 0.3173 - acc: 0.8596 - val_loss: 0.6532 - val_acc: 0.8153\n",
      "Epoch 296/300\n",
      "623/623 [==============================] - 0s 128us/step - loss: 0.3373 - acc: 0.8644 - val_loss: 0.7659 - val_acc: 0.8190\n",
      "Epoch 297/300\n",
      "623/623 [==============================] - 0s 115us/step - loss: 0.2860 - acc: 0.8820 - val_loss: 0.7934 - val_acc: 0.8246\n",
      "Epoch 298/300\n",
      "623/623 [==============================] - 0s 128us/step - loss: 0.2971 - acc: 0.8700 - val_loss: 0.7230 - val_acc: 0.8022\n",
      "Epoch 299/300\n",
      "623/623 [==============================] - 0s 134us/step - loss: 0.2861 - acc: 0.8748 - val_loss: 0.8131 - val_acc: 0.8078\n",
      "Epoch 300/300\n",
      "623/623 [==============================] - 0s 93us/step - loss: 0.3012 - acc: 0.8732 - val_loss: 0.7313 - val_acc: 0.7985\n"
     ]
    }
   ],
   "source": [
    "model.compile(loss='binary_crossentropy',\n",
    "              optimizer= 'RMSProp',\n",
    "              metrics=['accuracy'])\n",
    "\n",
    "history = model.fit(X_norm, target_train,\n",
    "                    batch_size = 35, epochs = 300,\n",
    "                    verbose = 1, validation_split = 0.3)"
   ]
  },
  {
   "cell_type": "markdown",
   "metadata": {},
   "source": [
    "TESTO IL MODELLO SULLO STESSO TRAIN PER OSSERVARE LA ROC"
   ]
  },
  {
   "cell_type": "code",
   "execution_count": 333,
   "metadata": {},
   "outputs": [
    {
     "name": "stdout",
     "output_type": "stream",
     "text": [
      "891/891 [==============================] - 0s 45us/step\n"
     ]
    },
    {
     "data": {
      "text/plain": [
       "[0.40940891291557335, 0.8630751964754261]"
      ]
     },
     "execution_count": 333,
     "metadata": {},
     "output_type": "execute_result"
    }
   ],
   "source": [
    "model.evaluate(X_norm, target_train, verbose = 1)"
   ]
  },
  {
   "cell_type": "code",
   "execution_count": 334,
   "metadata": {},
   "outputs": [],
   "source": [
    "pred_train = model.predict(X_norm)"
   ]
  },
  {
   "cell_type": "code",
   "execution_count": 335,
   "metadata": {
    "scrolled": true
   },
   "outputs": [],
   "source": [
    "pred_train = pd.DataFrame(pred_train)"
   ]
  },
  {
   "cell_type": "code",
   "execution_count": 336,
   "metadata": {},
   "outputs": [
    {
     "data": {
      "text/html": [
       "<div>\n",
       "<style scoped>\n",
       "    .dataframe tbody tr th:only-of-type {\n",
       "        vertical-align: middle;\n",
       "    }\n",
       "\n",
       "    .dataframe tbody tr th {\n",
       "        vertical-align: top;\n",
       "    }\n",
       "\n",
       "    .dataframe thead th {\n",
       "        text-align: right;\n",
       "    }\n",
       "</style>\n",
       "<table border=\"1\" class=\"dataframe\">\n",
       "  <thead>\n",
       "    <tr style=\"text-align: right;\">\n",
       "      <th></th>\n",
       "      <th>0</th>\n",
       "      <th>1</th>\n",
       "    </tr>\n",
       "  </thead>\n",
       "  <tbody>\n",
       "    <tr>\n",
       "      <th>0</th>\n",
       "      <td>9.188532e-01</td>\n",
       "      <td>0.091161</td>\n",
       "    </tr>\n",
       "    <tr>\n",
       "      <th>1</th>\n",
       "      <td>6.394208e-11</td>\n",
       "      <td>1.000000</td>\n",
       "    </tr>\n",
       "    <tr>\n",
       "      <th>2</th>\n",
       "      <td>5.967721e-01</td>\n",
       "      <td>0.449988</td>\n",
       "    </tr>\n",
       "    <tr>\n",
       "      <th>3</th>\n",
       "      <td>1.661946e-06</td>\n",
       "      <td>0.999997</td>\n",
       "    </tr>\n",
       "    <tr>\n",
       "      <th>4</th>\n",
       "      <td>8.248112e-01</td>\n",
       "      <td>0.162820</td>\n",
       "    </tr>\n",
       "  </tbody>\n",
       "</table>\n",
       "</div>"
      ],
      "text/plain": [
       "              0         1\n",
       "0  9.188532e-01  0.091161\n",
       "1  6.394208e-11  1.000000\n",
       "2  5.967721e-01  0.449988\n",
       "3  1.661946e-06  0.999997\n",
       "4  8.248112e-01  0.162820"
      ]
     },
     "execution_count": 336,
     "metadata": {},
     "output_type": "execute_result"
    }
   ],
   "source": [
    "pred_train.head()"
   ]
  },
  {
   "cell_type": "code",
   "execution_count": 337,
   "metadata": {},
   "outputs": [],
   "source": [
    "col_train = pred_train[1]\n",
    "surv_train = []\n",
    "for i in col_train:\n",
    "    if i < 0.5:\n",
    "        surv_train.append(\"0\")\n",
    "    else:\n",
    "        surv_train.append(\"1\")"
   ]
  },
  {
   "cell_type": "code",
   "execution_count": 338,
   "metadata": {},
   "outputs": [],
   "source": [
    "trainpr = pd.DataFrame({\"Probability(1)\" : pred_train[1], \"Survived\": surv_train})"
   ]
  },
  {
   "cell_type": "code",
   "execution_count": 339,
   "metadata": {},
   "outputs": [
    {
     "data": {
      "text/html": [
       "<div>\n",
       "<style scoped>\n",
       "    .dataframe tbody tr th:only-of-type {\n",
       "        vertical-align: middle;\n",
       "    }\n",
       "\n",
       "    .dataframe tbody tr th {\n",
       "        vertical-align: top;\n",
       "    }\n",
       "\n",
       "    .dataframe thead th {\n",
       "        text-align: right;\n",
       "    }\n",
       "</style>\n",
       "<table border=\"1\" class=\"dataframe\">\n",
       "  <thead>\n",
       "    <tr style=\"text-align: right;\">\n",
       "      <th></th>\n",
       "      <th>Probability(1)</th>\n",
       "      <th>Survived</th>\n",
       "    </tr>\n",
       "  </thead>\n",
       "  <tbody>\n",
       "    <tr>\n",
       "      <th>0</th>\n",
       "      <td>0.091161</td>\n",
       "      <td>0</td>\n",
       "    </tr>\n",
       "    <tr>\n",
       "      <th>1</th>\n",
       "      <td>1.000000</td>\n",
       "      <td>1</td>\n",
       "    </tr>\n",
       "    <tr>\n",
       "      <th>2</th>\n",
       "      <td>0.449988</td>\n",
       "      <td>0</td>\n",
       "    </tr>\n",
       "    <tr>\n",
       "      <th>3</th>\n",
       "      <td>0.999997</td>\n",
       "      <td>1</td>\n",
       "    </tr>\n",
       "    <tr>\n",
       "      <th>4</th>\n",
       "      <td>0.162820</td>\n",
       "      <td>0</td>\n",
       "    </tr>\n",
       "  </tbody>\n",
       "</table>\n",
       "</div>"
      ],
      "text/plain": [
       "   Probability(1) Survived\n",
       "0        0.091161        0\n",
       "1        1.000000        1\n",
       "2        0.449988        0\n",
       "3        0.999997        1\n",
       "4        0.162820        0"
      ]
     },
     "execution_count": 339,
     "metadata": {},
     "output_type": "execute_result"
    }
   ],
   "source": [
    "trainpr.head()"
   ]
  },
  {
   "cell_type": "code",
   "execution_count": 340,
   "metadata": {},
   "outputs": [],
   "source": [
    "trainpr[\"Survived\"].astype(int)\n",
    "surv_array = np.array(trainpr[\"Survived\"])"
   ]
  },
  {
   "cell_type": "code",
   "execution_count": 341,
   "metadata": {
    "scrolled": false
   },
   "outputs": [
    {
     "data": {
      "text/plain": [
       "array([[505,  77],\n",
       "       [ 44, 265]], dtype=int64)"
      ]
     },
     "execution_count": 341,
     "metadata": {},
     "output_type": "execute_result"
    }
   ],
   "source": [
    "confusion_matrix(surv_array.astype(int), target_train_nodup)"
   ]
  },
  {
   "cell_type": "code",
   "execution_count": 342,
   "metadata": {},
   "outputs": [],
   "source": [
    "# calculate the fpr and tpr for all thresholds of the classification\n",
    "probs = model.predict_proba(X_norm)\n",
    "preds = probs[:,1]\n",
    "fpr, tpr, threshold = metrics.roc_curve(target_train_nodup, preds)\n",
    "roc_auc = metrics.auc(fpr, tpr)"
   ]
  },
  {
   "cell_type": "markdown",
   "metadata": {},
   "source": [
    "ROC CURVE ON TRAIN "
   ]
  },
  {
   "cell_type": "code",
   "execution_count": 343,
   "metadata": {},
   "outputs": [
    {
     "data": {
      "image/png": "[encoded data removed]",
      "text/plain": [
       "<matplotlib.figure.Figure at 0x2054723a828>"
      ]
     },
     "metadata": {},
     "output_type": "display_data"
    }
   ],
   "source": [
    "plt.title('Receiver Operating Characteristic')\n",
    "plt.plot(fpr, tpr, 'b', label = 'AUC = %0.2f' % roc_auc)\n",
    "plt.legend(loc = 'lower right')\n",
    "plt.plot([0, 1], [0, 1],'r--')\n",
    "plt.xlim([0, 1])\n",
    "plt.ylim([0, 1])\n",
    "plt.ylabel('True Positive Rate')\n",
    "plt.xlabel('False Positive Rate')\n",
    "plt.show()"
   ]
  },
  {
   "cell_type": "markdown",
   "metadata": {},
   "source": [
    "CLASSIFICATION ON TEST"
   ]
  },
  {
   "cell_type": "code",
   "execution_count": 344,
   "metadata": {},
   "outputs": [],
   "source": [
    "pred = model.predict(test_norm)"
   ]
  },
  {
   "cell_type": "code",
   "execution_count": 345,
   "metadata": {},
   "outputs": [],
   "source": [
    "pred = pd.DataFrame(pred)"
   ]
  },
  {
   "cell_type": "code",
   "execution_count": 346,
   "metadata": {},
   "outputs": [
    {
     "data": {
      "text/html": [
       "<div>\n",
       "<style scoped>\n",
       "    .dataframe tbody tr th:only-of-type {\n",
       "        vertical-align: middle;\n",
       "    }\n",
       "\n",
       "    .dataframe tbody tr th {\n",
       "        vertical-align: top;\n",
       "    }\n",
       "\n",
       "    .dataframe thead th {\n",
       "        text-align: right;\n",
       "    }\n",
       "</style>\n",
       "<table border=\"1\" class=\"dataframe\">\n",
       "  <thead>\n",
       "    <tr style=\"text-align: right;\">\n",
       "      <th></th>\n",
       "      <th>0</th>\n",
       "      <th>1</th>\n",
       "    </tr>\n",
       "  </thead>\n",
       "  <tbody>\n",
       "    <tr>\n",
       "      <th>0</th>\n",
       "      <td>0.966041</td>\n",
       "      <td>0.037359</td>\n",
       "    </tr>\n",
       "    <tr>\n",
       "      <th>1</th>\n",
       "      <td>0.983713</td>\n",
       "      <td>0.017622</td>\n",
       "    </tr>\n",
       "    <tr>\n",
       "      <th>2</th>\n",
       "      <td>0.999995</td>\n",
       "      <td>0.000005</td>\n",
       "    </tr>\n",
       "    <tr>\n",
       "      <th>3</th>\n",
       "      <td>0.890255</td>\n",
       "      <td>0.111064</td>\n",
       "    </tr>\n",
       "    <tr>\n",
       "      <th>4</th>\n",
       "      <td>0.773684</td>\n",
       "      <td>0.254826</td>\n",
       "    </tr>\n",
       "    <tr>\n",
       "      <th>5</th>\n",
       "      <td>0.872021</td>\n",
       "      <td>0.119464</td>\n",
       "    </tr>\n",
       "    <tr>\n",
       "      <th>6</th>\n",
       "      <td>0.413455</td>\n",
       "      <td>0.586532</td>\n",
       "    </tr>\n",
       "    <tr>\n",
       "      <th>7</th>\n",
       "      <td>0.955753</td>\n",
       "      <td>0.055930</td>\n",
       "    </tr>\n",
       "    <tr>\n",
       "      <th>8</th>\n",
       "      <td>0.556166</td>\n",
       "      <td>0.425679</td>\n",
       "    </tr>\n",
       "    <tr>\n",
       "      <th>9</th>\n",
       "      <td>0.991292</td>\n",
       "      <td>0.012794</td>\n",
       "    </tr>\n",
       "  </tbody>\n",
       "</table>\n",
       "</div>"
      ],
      "text/plain": [
       "          0         1\n",
       "0  0.966041  0.037359\n",
       "1  0.983713  0.017622\n",
       "2  0.999995  0.000005\n",
       "3  0.890255  0.111064\n",
       "4  0.773684  0.254826\n",
       "5  0.872021  0.119464\n",
       "6  0.413455  0.586532\n",
       "7  0.955753  0.055930\n",
       "8  0.556166  0.425679\n",
       "9  0.991292  0.012794"
      ]
     },
     "execution_count": 346,
     "metadata": {},
     "output_type": "execute_result"
    }
   ],
   "source": [
    "pred.head(10)"
   ]
  },
  {
   "cell_type": "code",
   "execution_count": 347,
   "metadata": {},
   "outputs": [],
   "source": [
    "col1 = pred[1]\n",
    "surv = []\n",
    "for i in col1:\n",
    "    if i < 0.5:\n",
    "        surv.append(\"0\")\n",
    "    else:\n",
    "        surv.append(\"1\")"
   ]
  },
  {
   "cell_type": "code",
   "execution_count": 348,
   "metadata": {},
   "outputs": [],
   "source": [
    "consegna = pd.DataFrame({\"PassengerId\" : test_Id, \"Prob(Survived)\" : pred[1], \"Survived\" : surv})"
   ]
  },
  {
   "cell_type": "code",
   "execution_count": 349,
   "metadata": {},
   "outputs": [],
   "source": [
    "consegna.set_index(\"PassengerId\", inplace = True)"
   ]
  },
  {
   "cell_type": "code",
   "execution_count": 350,
   "metadata": {},
   "outputs": [],
   "source": [
    "consegna.drop(\"Prob(Survived)\", axis = 1).to_csv(\"subm.csv\")"
   ]
  },
  {
   "cell_type": "code",
   "execution_count": null,
   "metadata": {},
   "outputs": [],
   "source": []
  }
 ],
 "metadata": {
  "kernelspec": {
   "display_name": "Python 3",
   "language": "python",
   "name": "python3"
  },
  "language_info": {
   "codemirror_mode": {
    "name": "ipython",
    "version": 3
   },
   "file_extension": ".py",
   "mimetype": "text/x-python",
   "name": "python",
   "nbconvert_exporter": "python",
   "pygments_lexer": "ipython3",
   "version": "3.5.5"
  }
 },
 "nbformat": 4,
 "nbformat_minor": 2
}
